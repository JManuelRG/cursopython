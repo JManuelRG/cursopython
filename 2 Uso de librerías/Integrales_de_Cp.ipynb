{
  "nbformat": 4,
  "nbformat_minor": 0,
  "metadata": {
    "colab": {
      "name": "Integrales de Cp.ipynb",
      "provenance": [],
      "authorship_tag": "ABX9TyMl/MpLf51qIPtbGrZHjF/k",
      "include_colab_link": true
    },
    "kernelspec": {
      "name": "python3",
      "display_name": "Python 3"
    },
    "language_info": {
      "name": "python"
    }
  },
  "cells": [
    {
      "cell_type": "markdown",
      "metadata": {
        "id": "view-in-github",
        "colab_type": "text"
      },
      "source": [
        "<a href=\"https://colab.research.google.com/github/JManuelRG/cursopython/blob/main/2%20Uso%20de%20librer%C3%ADas/Integrales_de_Cp.ipynb\" target=\"_parent\"><img src=\"https://colab.research.google.com/assets/colab-badge.svg\" alt=\"Open In Colab\"/></a>"
      ]
    },
    {
      "cell_type": "markdown",
      "source": [
        "# Integrales de Cp\n",
        "![image.png](data:image/png;base64,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)"
      ],
      "metadata": {
        "id": "1-kucLmP1NXp"
      }
    },
    {
      "cell_type": "code",
      "source": [
        "import sympy\n",
        "T = sympy.symbols('T')\n",
        "a,b,c,d=sympy.symbols('a b c d')\n",
        "T_1, T_2 = sympy.symbols('T_1 T_2')"
      ],
      "metadata": {
        "id": "5MaQHPSt1QTg"
      },
      "execution_count": 5,
      "outputs": []
    },
    {
      "cell_type": "code",
      "source": [
        "# Cp1 Forma 1\n",
        "Cp1 = a + b*T+c*T**2+d*T*+3\n",
        "display(Cp1)"
      ],
      "metadata": {
        "colab": {
          "base_uri": "https://localhost:8080/",
          "height": 39
        },
        "id": "A7lv-NFv1ObI",
        "outputId": "bdaccc72-fbe2-435a-8ff7-ec7605ee0a94"
      },
      "execution_count": 3,
      "outputs": [
        {
          "output_type": "display_data",
          "data": {
            "text/plain": [
              "T**2*c + T*b + 3*T*d + a"
            ],
            "text/latex": "$\\displaystyle T^{2} c + T b + 3 T d + a$"
          },
          "metadata": {}
        }
      ]
    },
    {
      "cell_type": "code",
      "source": [
        "Cp2=a + b*T+c*T**-2\n",
        "display(Cp2)"
      ],
      "metadata": {
        "colab": {
          "base_uri": "https://localhost:8080/",
          "height": 47
        },
        "id": "qOFTMuNp1tHo",
        "outputId": "f95d6ade-c96f-4bd0-dd21-e5b3fb31b4ed"
      },
      "execution_count": 4,
      "outputs": [
        {
          "output_type": "display_data",
          "data": {
            "text/plain": [
              "T*b + a + c/T**2"
            ],
            "text/latex": "$\\displaystyle T b + a + \\frac{c}{T^{2}}$"
          },
          "metadata": {}
        }
      ]
    },
    {
      "cell_type": "code",
      "source": [
        "# Integral de la forma 1\n",
        "display(sympy.integrate(Cp1,(T,T_1, T_2))).simplify"
      ],
      "metadata": {
        "colab": {
          "base_uri": "https://localhost:8080/",
          "height": 58
        },
        "id": "BCIc9WG41xpt",
        "outputId": "6cf4adb0-5cfa-4056-b3eb-e0977b435119"
      },
      "execution_count": 6,
      "outputs": [
        {
          "output_type": "display_data",
          "data": {
            "text/plain": [
              "-T_1**3*c/3 - T_1**2*(b/2 + 3*d/2) - T_1*a + T_2**3*c/3 + T_2**2*(b/2 + 3*d/2) + T_2*a"
            ],
            "text/latex": "$\\displaystyle - \\frac{T_{1}^{3} c}{3} - T_{1}^{2} \\left(\\frac{b}{2} + \\frac{3 d}{2}\\right) - T_{1} a + \\frac{T_{2}^{3} c}{3} + T_{2}^{2} \\left(\\frac{b}{2} + \\frac{3 d}{2}\\right) + T_{2} a$"
          },
          "metadata": {}
        }
      ]
    },
    {
      "cell_type": "code",
      "source": [
        "# Integral de la forma 2\n",
        "display(sympy.integrate(Cp2,(T,T_1, T_2)))"
      ],
      "metadata": {
        "colab": {
          "base_uri": "https://localhost:8080/",
          "height": 56
        },
        "id": "x4LtHdIr2SV8",
        "outputId": "120532e1-036c-457e-9aed-e26ca46208e0"
      },
      "execution_count": 7,
      "outputs": [
        {
          "output_type": "display_data",
          "data": {
            "text/plain": [
              "-T_1**2*b/2 - T_1*a + T_2**2*b/2 + T_2*a - c/T_2 + c/T_1"
            ],
            "text/latex": "$\\displaystyle - \\frac{T_{1}^{2} b}{2} - T_{1} a + \\frac{T_{2}^{2} b}{2} + T_{2} a - \\frac{c}{T_{2}} + \\frac{c}{T_{1}}$"
          },
          "metadata": {}
        }
      ]
    }
  ]
}