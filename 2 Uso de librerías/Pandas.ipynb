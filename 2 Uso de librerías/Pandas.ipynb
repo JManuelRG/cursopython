{
  "nbformat": 4,
  "nbformat_minor": 0,
  "metadata": {
    "colab": {
      "name": "pandas.ipynb",
      "provenance": [],
      "authorship_tag": "ABX9TyMSoUiZp13begXjSqZKuadF",
      "include_colab_link": true
    },
    "kernelspec": {
      "name": "python3",
      "display_name": "Python 3"
    },
    "language_info": {
      "name": "python"
    }
  },
  "cells": [
    {
      "cell_type": "markdown",
      "metadata": {
        "id": "view-in-github",
        "colab_type": "text"
      },
      "source": [
        "<a href=\"https://colab.research.google.com/github/JManuelRG/cursopython/blob/main/2%20Uso%20de%20librer%C3%ADas/Pandas.ipynb\" target=\"_parent\"><img src=\"https://colab.research.google.com/assets/colab-badge.svg\" alt=\"Open In Colab\"/></a>"
      ]
    },
    {
      "cell_type": "markdown",
      "metadata": {
        "id": "_i7MiA_qxSBH"
      },
      "source": [
        "# Gestión de Bases de Datos con la librería Pandas\n",
        "## \"PANel Data\" + \"python Data AnalySis\"\n",
        "\n",
        "Página oficial:\n",
        "\n",
        "https://pandas.pydata.org/\n",
        "\n",
        "Tutorial:\n",
        "\n",
        "https://www.w3schools.com/python/pandas/default.asp\n",
        "\n"
      ]
    },
    {
      "cell_type": "markdown",
      "metadata": {
        "id": "6klX_2ByyAwn"
      },
      "source": [
        "# Comandos Principales\n",
        "\n",
        "## Importar librería:\n",
        "import pandas as pd\n",
        "\n",
        "## Leer base de datos excel\n",
        "pandas.read_excel('pandasExcel.xlsx', 'Sheet1')\n",
        "\n",
        "pd.read_excel('pandasExcel.xls', 'Sheet1')\n",
        "\n",
        "## importar base de datos csv\n",
        "pandas.read_csv('Book1.csv')\n",
        "\n",
        "usar index_col para personalizar índices\n",
        "\n",
        "## extraer fila de dataframe\n",
        "Tabla.loc[1]\n",
        "\n",
        "1 es el índice de la fila\n",
        "\n",
        "extraer columna de dataframe\n",
        "Tabla['nombre']\n",
        "\n",
        "\n",
        "## extraer valor\n",
        "Tabla.at[0,\"A\"]\n",
        "\n",
        "[índice de la fila, \"Etiqueta de la columna\"]\n",
        "Tabla.iat[0,0]\n",
        "\n",
        "## Borrar columna\n",
        "df.drop(['Etiqueta'], axis=1)\n",
        "\n",
        "se pueden eliminar múltiples columnas agregando más etiquetas\n",
        "\n",
        "# Borrar varias columnas:\n",
        "df.drop([1, 2],axis=0)\n",
        "\n",
        "índices de la fila como lista\n",
        "\n",
        "axis = 1 para columnas\n",
        "\n",
        "Usar range:\n",
        "\n",
        "df.drop(range(inicio, fin, paso),axis=0)\n",
        "\n",
        "# Borrar fila (0)\n",
        "df.drop(0)\n",
        "\n",
        "axis = 0 para filas\n",
        "\n",
        "\n",
        "# Buscar la fila que cumpla una restricción:\n",
        "variable = Tabla.loc[Tabla['SUSTANCIA']=='carbon-tetrachloride']\n",
        "\n",
        "Devuelve la fila que cumpla la restricción y la guarda en 'variable'\n",
        "\n",
        "Tabla es una variable tipo dataframe\n",
        "\n",
        "\n",
        "\n",
        "\n"
      ]
    },
    {
      "cell_type": "markdown",
      "metadata": {
        "id": "JZHsZXl8y7cW"
      },
      "source": [
        "# Base de datos\n",
        "## Constantes de la Ecuación de Antoine\n",
        "http://www.fgsalazar.net/xls/PROPIEDADES_ELV.xls"
      ]
    },
    {
      "cell_type": "code",
      "metadata": {
        "id": "SNWMC0dVyuKP"
      },
      "source": [
        "# -*- coding: utf-8 -*-\n",
        "\"\"\"\n",
        "Created on Tue May 25 16:51:37 2021\n",
        "\n",
        "@author: José Manuel\n",
        "\"\"\"\n",
        "\"\"\"\n",
        "\n",
        "\"\"\"\n",
        "# Código: cálculos con la base de datos de la ec. de antoine\n",
        "# Correr con Spyder\n",
        "import pandas as pd\n",
        "\n",
        "\n",
        "# Importar la base de datos:\n",
        "tabla = pd.read_csv('Tabla Antoine.csv', index_col=\"FORMULA\")\n",
        "tabla = tabla.drop(['No.'], axis=1)\n",
        "## Cálculos\n",
        "# Calcular la Psat de una sustancia accediendo \n",
        "# a los valores de las constantes de Antoine \n",
        "# de la base de datos\n",
        "\n",
        "def Psat(sustancia,T):\n",
        "    A = tabla.at[sustancia, \"A\"]\n",
        "    B = tabla.at[sustancia, \"B\"]\n",
        "    C = tabla.at[sustancia, \"C\"]\n",
        "    nombre = tabla.at[sustancia, \"SUSTANCIA\"]\n",
        "    Psat = 10**(A-B/(T+C))\n",
        "    print(f\"El valor calculado para la Psat de {sustancia} ({nombre}) a la temperatura {T}°C es {Psat} kPa\")\n"
      ],
      "execution_count": null,
      "outputs": []
    }
  ]
}