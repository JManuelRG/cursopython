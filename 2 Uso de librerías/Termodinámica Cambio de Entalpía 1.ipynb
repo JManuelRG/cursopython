{
  "nbformat": 4,
  "nbformat_minor": 0,
  "metadata": {
    "colab": {
      "name": "Integral de Cp.ipynb",
      "provenance": [],
      "authorship_tag": "ABX9TyPvh4v3zF3N98QMuPYoL7u5",
      "include_colab_link": true
    },
    "kernelspec": {
      "name": "python3",
      "display_name": "Python 3"
    },
    "language_info": {
      "name": "python"
    }
  },
  "cells": [
    {
      "cell_type": "markdown",
      "metadata": {
        "id": "view-in-github",
        "colab_type": "text"
      },
      "source": [
        "<a href=\"https://colab.research.google.com/github/JManuelRG/cursopython/blob/main/2/Uso%20de%20librer%C3%ADas/Termodin%C3%A1mica%20Cambio%20de%20Entalp%C3%ADa%201.ipynb\" target=\"_parent\"><img src=\"https://colab.research.google.com/assets/colab-badge.svg\" alt=\"Open In Colab\"/></a>"
      ]
    },
    {
      "cell_type": "markdown",
      "metadata": {
        "id": "btAdUrdlClhN"
      },
      "source": [
        "# Resolución de la integral de Cp\n",
        "Planteamiento del problema:\n",
        "https://www.youtube.com/watch?v=zaCUtE2WQUI\n",
        "\n",
        "Resolver la integral de Cp para el cálculo de entalpía.\n",
        "\n",
        "Ecuaciones escritas con código látex: https://www.latex-project.org/\n",
        "\n",
        "$$\\begin{equation}\n",
        "\\Delta H= \\int_{T_1}^{T_2} C_P  dT\n",
        "\\end{equation}$$\n",
        "\n",
        "$$\\begin{equation}\n",
        "\\Delta H= R\\int_{T_1}^{T_2} {(C_P/R)}dT\n",
        "\\end{equation}$$\n"
      ]
    },
    {
      "cell_type": "code",
      "metadata": {
        "colab": {
          "base_uri": "https://localhost:8080/"
        },
        "id": "9-bVKNgiD7_p",
        "outputId": "dcafe68c-5cea-4dd8-c956-bb572e122f80"
      },
      "source": [
        "# Definir las constante Cp del metano\n",
        "A = 1.702\n",
        "B = 9.081e-3\n",
        "Ce = -2.164e-6\n",
        "\n",
        "print(A)\n",
        "print(B)\n",
        "print(Ce)"
      ],
      "execution_count": null,
      "outputs": [
        {
          "output_type": "stream",
          "text": [
            "1.702\n",
            "0.009081\n",
            "-2.164e-06\n"
          ],
          "name": "stdout"
        }
      ]
    },
    {
      "cell_type": "markdown",
      "metadata": {
        "id": "USmFJvL2H0nU"
      },
      "source": [
        "# Función de Cp/R con la temperatura:\n",
        "\n",
        "De la tabla, se tiene el polinomio:\n",
        "$$C_P/R = A + BT + CT^2 + DT^{-2}$$\n",
        "\n",
        "Definimos la variable simbólica T, utilizar la librería Sympy (cálculo algebraico, diferencial e integral)\n",
        "https://docs.sympy.org/\n",
        "\n"
      ]
    },
    {
      "cell_type": "code",
      "metadata": {
        "colab": {
          "base_uri": "https://localhost:8080/",
          "height": 39
        },
        "id": "Sr02kfsoHuMr",
        "outputId": "5cf027b0-2c2f-4ecc-bf5c-08a6117a982c"
      },
      "source": [
        "# Definir la función Cp/R\n",
        "\n",
        "# Importar la librería de cálculo simbólico\n",
        "from sympy import *\n",
        "\n",
        "# Definir la variable T como variable simbólica\n",
        "T = symbols('T')\n",
        "\n",
        "CpR = A + B*T + Ce*T**2\n",
        "display(CpR)"
      ],
      "execution_count": null,
      "outputs": [
        {
          "output_type": "display_data",
          "data": {
            "text/latex": "$\\displaystyle - 2.164 \\cdot 10^{-6} T^{2} + 0.009081 T + 1.702$",
            "text/plain": [
              "-2.164e-6*T**2 + 0.009081*T + 1.702"
            ]
          },
          "metadata": {
            "tags": []
          }
        }
      ]
    },
    {
      "cell_type": "markdown",
      "metadata": {
        "id": "pjMFkP6cKmpx"
      },
      "source": [
        "# Calcular la integral"
      ]
    },
    {
      "cell_type": "code",
      "metadata": {
        "colab": {
          "base_uri": "https://localhost:8080/"
        },
        "id": "EOGFNGdqKpo5",
        "outputId": "10188883-0fb7-44e8-e014-1e1212e8633e"
      },
      "source": [
        "# Temperatura inicial\n",
        "T1 = 260 + 273.15\n",
        "\n",
        "# Temperatura Final\n",
        "T2 = 600 + 273.15\n",
        "\n",
        "# Constante de los gases\n",
        "R= 8.314 #J/molK\n",
        "\n",
        "dH = R*integrate(CpR,(T,T1,T2)) \n",
        "print(dH) # en unidades de J/mol"
      ],
      "execution_count": null,
      "outputs": [
        {
          "output_type": "stream",
          "text": [
            "19777.5221795358\n"
          ],
          "name": "stdout"
        }
      ]
    },
    {
      "cell_type": "code",
      "metadata": {
        "colab": {
          "base_uri": "https://localhost:8080/",
          "height": 61
        },
        "id": "-VZR7jAKMAZ0",
        "outputId": "5204adb8-f763-4080-f6d9-bb16e4f182d7"
      },
      "source": [
        "# Integral Indefinida\n",
        "display(CpR)\n",
        "\n",
        "\n",
        "display(integrate(CpR,T))"
      ],
      "execution_count": null,
      "outputs": [
        {
          "output_type": "display_data",
          "data": {
            "text/latex": "$\\displaystyle - 2.164 \\cdot 10^{-6} T^{2} + 0.009081 T + 1.702$",
            "text/plain": [
              "-2.164e-6*T**2 + 0.009081*T + 1.702"
            ]
          },
          "metadata": {
            "tags": []
          }
        },
        {
          "output_type": "display_data",
          "data": {
            "text/latex": "$\\displaystyle - 7.21333333333333 \\cdot 10^{-7} T^{3} + 0.0045405 T^{2} + 1.702 T$",
            "text/plain": [
              "-7.21333333333333e-7*T**3 + 0.0045405*T**2 + 1.702*T"
            ]
          },
          "metadata": {
            "tags": []
          }
        }
      ]
    }
  ]
}
