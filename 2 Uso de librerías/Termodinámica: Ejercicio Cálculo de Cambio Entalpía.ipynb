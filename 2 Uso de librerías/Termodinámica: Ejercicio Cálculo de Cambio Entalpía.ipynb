{
  "nbformat": 4,
  "nbformat_minor": 0,
  "metadata": {
    "colab": {
      "name": "Ejercicio Amoniaco Cp.ipynb",
      "provenance": [],
      "collapsed_sections": [],
      "authorship_tag": "ABX9TyOSOwfBd42umKPAOeDMbbwC",
      "include_colab_link": true
    },
    "kernelspec": {
      "name": "python3",
      "display_name": "Python 3"
    },
    "language_info": {
      "name": "python"
    }
  },
  "cells": [
    {
      "cell_type": "markdown",
      "metadata": {
        "id": "view-in-github",
        "colab_type": "text"
      },
      "source": [
        "<a href=\"https://colab.research.google.com/github/JManuelRG/cursopython/blob/main/2%20Uso%20de%20librer%C3%ADas/Termodin%C3%A1mica%3A%20Ejercicio%20C%C3%A1lculo%20de%20Cambio%20Entalp%C3%ADa.ipynb\" target=\"_parent\"><img src=\"https://colab.research.google.com/assets/colab-badge.svg\" alt=\"Open In Colab\"/></a>"
      ]
    },
    {
      "cell_type": "markdown",
      "metadata": {
        "id": "YHIdvz422CyJ"
      },
      "source": [
        "# Ejercicio: Calorimetría:\n",
        "Video con Planteamiento:\n",
        "https://www.youtube.com/watch?v=zaCUtE2WQUI\n",
        "\n",
        "# Determinar el valor de T, para la siguiente ecuación:\n",
        "\n",
        "![image.png](data:image/png;base64,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)"
      ]
    },
    {
      "cell_type": "markdown",
      "metadata": {
        "id": "kUbRUq8m2Q_5"
      },
      "source": [
        "# Para resolver la ecuación algebraicamente usaremos la librería sympy de Python\n",
        "https://www.sympy.org/"
      ]
    },
    {
      "cell_type": "code",
      "metadata": {
        "id": "AphJ2Wi22JUj"
      },
      "source": [
        "# Trabajar con álgebra simbólica\n",
        "# importar la librería\n",
        "from sympy import *"
      ],
      "execution_count": 1,
      "outputs": []
    },
    {
      "cell_type": "code",
      "metadata": {
        "colab": {
          "base_uri": "https://localhost:8080/",
          "height": 39
        },
        "id": "uZ-bUIQk2iFJ",
        "outputId": "60a1fb33-3066-4e7b-cb51-b2b55286e498"
      },
      "source": [
        "# Definir la variable algebraica\n",
        "\n",
        "T = symbols('T')\n",
        "display(T)\n"
      ],
      "execution_count": 2,
      "outputs": [
        {
          "output_type": "display_data",
          "data": {
            "text/latex": "$\\displaystyle T$",
            "text/plain": [
              "T"
            ]
          },
          "metadata": {
            "tags": []
          }
        }
      ]
    },
    {
      "cell_type": "code",
      "metadata": {
        "colab": {
          "base_uri": "https://localhost:8080/",
          "height": 52
        },
        "id": "qpejRFzR228r",
        "outputId": "439c779c-eb8e-40f4-e089-ccfe43509824"
      },
      "source": [
        "# Definir la integral\n",
        "\n",
        "integral = integrate(3.578+3.02e-3*T-0.186e5*T**(-2), (T, 533.15,T))\n",
        "display(integral)"
      ],
      "execution_count": 3,
      "outputs": [
        {
          "output_type": "display_data",
          "data": {
            "text/latex": "$\\displaystyle 0.00151 T^{2} + 3.578 T - 2371.71356537864 + \\frac{18600.0}{T}$",
            "text/plain": [
              "0.00151*T**2 + 3.578*T - 2371.71356537864 + 18600.0/T"
            ]
          },
          "metadata": {
            "tags": []
          }
        }
      ]
    },
    {
      "cell_type": "code",
      "metadata": {
        "colab": {
          "base_uri": "https://localhost:8080/",
          "height": 52
        },
        "id": "xSUmE6K84Vsp",
        "outputId": "0eb65fb0-94e0-4bdb-bda3-5c051101f747"
      },
      "source": [
        "# Definir la ecuación\n",
        "ecuacion = Eq(37218/8.314,integral)\n",
        "display(ecuacion)"
      ],
      "execution_count": 4,
      "outputs": [
        {
          "output_type": "display_data",
          "data": {
            "text/latex": "$\\displaystyle 4476.54558575896 = 0.00151 T^{2} + 3.578 T - 2371.71356537864 + \\frac{18600.0}{T}$",
            "text/plain": [
              "Eq(4476.54558575896, 0.00151*T**2 + 3.578*T - 2371.71356537864 + 18600.0/T)"
            ]
          },
          "metadata": {
            "tags": []
          }
        }
      ]
    },
    {
      "cell_type": "code",
      "metadata": {
        "colab": {
          "base_uri": "https://localhost:8080/"
        },
        "id": "9VMB3JCI4zvv",
        "outputId": "e827c95b-e706-4f9f-f74c-863558a23bb5"
      },
      "source": [
        "# Resolver para T\n",
        "Resultado = solve(ecuacion, T)\n",
        "print(Resultado)"
      ],
      "execution_count": 5,
      "outputs": [
        {
          "output_type": "stream",
          "text": [
            "[-3622.46119804297, 2.71988826243800, 1250.20488593948]\n"
          ],
          "name": "stdout"
        }
      ]
    },
    {
      "cell_type": "code",
      "metadata": {
        "id": "Tmd7sCbB5QSN",
        "colab": {
          "base_uri": "https://localhost:8080/"
        },
        "outputId": "67b76c62-c955-493f-92bb-ac800739cf84"
      },
      "source": [
        "# Resultado\n",
        "print(\"El resultado de la temparatura final en Kelvin es:\")\n",
        "print(Resultado[2])"
      ],
      "execution_count": 6,
      "outputs": [
        {
          "output_type": "stream",
          "text": [
            "El resultado de la temparatura final en Kelvin es:\n",
            "1250.20488593948\n"
          ],
          "name": "stdout"
        }
      ]
    }
  ]
}