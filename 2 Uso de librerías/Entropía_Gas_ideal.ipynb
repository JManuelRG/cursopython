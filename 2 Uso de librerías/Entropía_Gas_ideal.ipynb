{
  "nbformat": 4,
  "nbformat_minor": 0,
  "metadata": {
    "colab": {
      "provenance": [],
      "authorship_tag": "ABX9TyNdjLs2A9KbekLD/z6CJ7kw",
      "include_colab_link": true
    },
    "kernelspec": {
      "name": "python3",
      "display_name": "Python 3"
    },
    "language_info": {
      "name": "python"
    }
  },
  "cells": [
    {
      "cell_type": "markdown",
      "metadata": {
        "id": "view-in-github",
        "colab_type": "text"
      },
      "source": [
        "<a href=\"https://colab.research.google.com/github/JManuelRG/cursopython/blob/main/2%20Uso%20de%20librer%C3%ADas/Entrop%C3%ADa_Gas_ideal.ipynb\" target=\"_parent\"><img src=\"https://colab.research.google.com/assets/colab-badge.svg\" alt=\"Open In Colab\"/></a>"
      ]
    },
    {
      "cell_type": "markdown",
      "source": [
        "# Comprobación del Balance de Energía"
      ],
      "metadata": {
        "id": "g2l7ttj7m6xg"
      }
    },
    {
      "cell_type": "code",
      "source": [
        "import sympy as sp\n",
        "T2=sp.symbols('T_2')\n",
        "R=8.314/28.9e-3\n",
        "Cv=5/2*R\n",
        "Cp=7/2*R\n",
        "m1=0.7\n",
        "T1=20+273.15\n",
        "Te=70+273.15\n",
        "W=29500 #J"
      ],
      "metadata": {
        "id": "QuJA9JWKm7id"
      },
      "execution_count": null,
      "outputs": []
    },
    {
      "cell_type": "code",
      "source": [
        "m2=307.8/T2\n",
        "display(m2)"
      ],
      "metadata": {
        "colab": {
          "base_uri": "https://localhost:8080/",
          "height": 54
        },
        "id": "8rD-O0AkoPeO",
        "outputId": "7f64c6fe-90a5-48d0-ce70-91e6900d62ad"
      },
      "execution_count": null,
      "outputs": [
        {
          "output_type": "display_data",
          "data": {
            "text/plain": [
              "307.8/T_2"
            ],
            "text/latex": "$\\displaystyle \\frac{307.8}{T_{2}}$"
          },
          "metadata": {}
        }
      ]
    },
    {
      "cell_type": "code",
      "source": [
        "me=m2-m1\n",
        "display(me)"
      ],
      "metadata": {
        "colab": {
          "base_uri": "https://localhost:8080/",
          "height": 54
        },
        "id": "p4aqXLX6ofNP",
        "outputId": "b3bfb8ca-f048-4819-dfb4-f97c36db1f58"
      },
      "execution_count": null,
      "outputs": [
        {
          "output_type": "display_data",
          "data": {
            "text/plain": [
              "-0.7 + 307.8/T_2"
            ],
            "text/latex": "$\\displaystyle -0.7 + \\frac{307.8}{T_{2}}$"
          },
          "metadata": {}
        }
      ]
    },
    {
      "cell_type": "code",
      "source": [
        "Ec = sp.Eq(me*Cp*Te,\n",
        "           m2*Cv*T2-m1*Cv*T1+W)\n",
        "display(Ec)"
      ],
      "metadata": {
        "colab": {
          "base_uri": "https://localhost:8080/",
          "height": 54
        },
        "id": "Oa8RRnNRnGLs",
        "outputId": "20c236ac-e0f7-4031-b9c1-a6d9698af71f"
      },
      "execution_count": null,
      "outputs": [
        {
          "output_type": "display_data",
          "data": {
            "text/plain": [
              "Eq(-241859.006747405 + 106348860.395502/T_2, 103286.75)"
            ],
            "text/latex": "$\\displaystyle -241859.006747405 + \\frac{106348860.395502}{T_{2}} = 103286.75$"
          },
          "metadata": {}
        }
      ]
    },
    {
      "cell_type": "code",
      "source": [
        "sp.solve(Ec,T2)"
      ],
      "metadata": {
        "colab": {
          "base_uri": "https://localhost:8080/"
        },
        "id": "zqbJND9co74q",
        "outputId": "b3670e18-9da4-4ce0-b4ac-2b67473cc2bf"
      },
      "execution_count": null,
      "outputs": [
        {
          "output_type": "execute_result",
          "data": {
            "text/plain": [
              "[308.127387680253]"
            ]
          },
          "metadata": {},
          "execution_count": 54
        }
      ]
    },
    {
      "cell_type": "code",
      "source": [
        "me.subs(T2,308.127387680253)"
      ],
      "metadata": {
        "colab": {
          "base_uri": "https://localhost:8080/",
          "height": 37
        },
        "id": "4t5hL8cw-v7d",
        "outputId": "92760266-ca46-49af-8478-9c51523ce944"
      },
      "execution_count": null,
      "outputs": [
        {
          "output_type": "execute_result",
          "data": {
            "text/plain": [
              "0.298937492435458"
            ],
            "text/latex": "$\\displaystyle 0.298937492435458$"
          },
          "metadata": {},
          "execution_count": 57
        }
      ]
    }
  ]
}