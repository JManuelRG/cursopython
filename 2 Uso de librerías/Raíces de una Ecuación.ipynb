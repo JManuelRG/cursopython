{
  "nbformat": 4,
  "nbformat_minor": 0,
  "metadata": {
    "colab": {
      "name": "Aplicación de Vectores.ipynb",
      "provenance": [],
      "authorship_tag": "ABX9TyPdJSHvOYng3a+TWJGHDno2",
      "include_colab_link": true
    },
    "kernelspec": {
      "name": "python3",
      "display_name": "Python 3"
    },
    "language_info": {
      "name": "python"
    }
  },
  "cells": [
    {
      "cell_type": "markdown",
      "metadata": {
        "id": "view-in-github",
        "colab_type": "text"
      },
      "source": [
        "<a href=\"https://colab.research.google.com/github/JManuelRG/cursopython/blob/main/2%20Uso%20de%20librer%C3%ADas/Ra%C3%ADces%20de%20una%20Ecuaci%C3%B3n.ipynb\" target=\"_parent\"><img src=\"https://colab.research.google.com/assets/colab-badge.svg\" alt=\"Open In Colab\"/></a>"
      ]
    },
    {
      "cell_type": "markdown",
      "metadata": {
        "id": "BrJJY37ZOBIT"
      },
      "source": [
        "# Cálculo de las soluciones de una función\n",
        "Obtener las raíces de la función:\n",
        "$$ y = x^3-4x^2-3x-10 = 0 $$"
      ]
    },
    {
      "cell_type": "markdown",
      "metadata": {
        "id": "3KpycNl4O1mW"
      },
      "source": [
        "# Método gráfico\n",
        "Graficar la función en un intervalo dado, generar el gráfico de la función, leer del mismo donde la función corta al eje y."
      ]
    },
    {
      "cell_type": "code",
      "metadata": {
        "colab": {
          "base_uri": "https://localhost:8080/"
        },
        "id": "iAeZLIfjOxqO",
        "outputId": "fe25df03-7c8a-4f70-a139-54002c64ae16"
      },
      "source": [
        "# Para graficar la función\n",
        "# Generar valores de la variable independiente x\n",
        "\n",
        "import numpy as np\n",
        "x = np.linspace(-100,100,100) \n",
        "print(x)"
      ],
      "execution_count": 2,
      "outputs": [
        {
          "output_type": "stream",
          "text": [
            "[-100.          -97.97979798  -95.95959596  -93.93939394  -91.91919192\n",
            "  -89.8989899   -87.87878788  -85.85858586  -83.83838384  -81.81818182\n",
            "  -79.7979798   -77.77777778  -75.75757576  -73.73737374  -71.71717172\n",
            "  -69.6969697   -67.67676768  -65.65656566  -63.63636364  -61.61616162\n",
            "  -59.5959596   -57.57575758  -55.55555556  -53.53535354  -51.51515152\n",
            "  -49.49494949  -47.47474747  -45.45454545  -43.43434343  -41.41414141\n",
            "  -39.39393939  -37.37373737  -35.35353535  -33.33333333  -31.31313131\n",
            "  -29.29292929  -27.27272727  -25.25252525  -23.23232323  -21.21212121\n",
            "  -19.19191919  -17.17171717  -15.15151515  -13.13131313  -11.11111111\n",
            "   -9.09090909   -7.07070707   -5.05050505   -3.03030303   -1.01010101\n",
            "    1.01010101    3.03030303    5.05050505    7.07070707    9.09090909\n",
            "   11.11111111   13.13131313   15.15151515   17.17171717   19.19191919\n",
            "   21.21212121   23.23232323   25.25252525   27.27272727   29.29292929\n",
            "   31.31313131   33.33333333   35.35353535   37.37373737   39.39393939\n",
            "   41.41414141   43.43434343   45.45454545   47.47474747   49.49494949\n",
            "   51.51515152   53.53535354   55.55555556   57.57575758   59.5959596\n",
            "   61.61616162   63.63636364   65.65656566   67.67676768   69.6969697\n",
            "   71.71717172   73.73737374   75.75757576   77.77777778   79.7979798\n",
            "   81.81818182   83.83838384   85.85858586   87.87878788   89.8989899\n",
            "   91.91919192   93.93939394   95.95959596   97.97979798  100.        ]\n"
          ],
          "name": "stdout"
        }
      ]
    },
    {
      "cell_type": "code",
      "metadata": {
        "colab": {
          "base_uri": "https://localhost:8080/"
        },
        "id": "fUKAvEa7PdnQ",
        "outputId": "04305daa-5fc9-412c-b28c-fb3fb4451d38"
      },
      "source": [
        "# Generar los valores de y\n",
        "y = x**3-4*x**2-3*x-10\n",
        "print(y)"
      ],
      "execution_count": 3,
      "outputs": [
        {
          "output_type": "stream",
          "text": [
            "[-1.03971000e+06 -9.78726283e+05 -9.20174477e+05 -8.64005111e+05\n",
            " -8.10168717e+05 -7.58615825e+05 -7.09296966e+05 -6.62162671e+05\n",
            " -6.17163470e+05 -5.74249895e+05 -5.33372475e+05 -4.94481742e+05\n",
            " -4.57528226e+05 -4.22462459e+05 -3.89234970e+05 -3.57796290e+05\n",
            " -3.28096950e+05 -3.00087482e+05 -2.73718415e+05 -2.48940280e+05\n",
            " -2.25703608e+05 -2.03958930e+05 -1.83656776e+05 -1.64747678e+05\n",
            " -1.47182165e+05 -1.30910769e+05 -1.15884020e+05 -1.02052449e+05\n",
            " -8.93665871e+04 -7.77769643e+04 -6.72341116e+04 -5.76885598e+04\n",
            " -4.90908395e+04 -4.13914815e+04 -3.45410164e+04 -2.84899750e+04\n",
            " -2.31888881e+04 -1.85882862e+04 -1.46387001e+04 -1.12906606e+04\n",
            " -8.49469832e+03 -6.20134401e+03 -4.36112836e+03 -2.92458210e+03\n",
            " -1.84223594e+03 -1.06462059e+03 -5.42266755e+02 -2.25705159e+02\n",
            " -6.54665108e+01 -1.20815233e+01 -1.60809091e+01 -2.79953808e+01\n",
            "  1.64434880e+00  1.22307567e+02  3.83463561e+02  8.34581619e+02\n",
            "  1.52513103e+03  2.50458107e+03  3.82240104e+03  5.52806023e+03\n",
            "  7.67102791e+03  1.03007734e+04  1.34667659e+04  1.72184748e+04\n",
            "  2.16053694e+04  2.66769189e+04  3.24825926e+04  3.90718598e+04\n",
            "  4.64941898e+04  5.47990520e+04  6.40359154e+04  7.42542496e+04\n",
            "  8.55035237e+04  9.78332070e+04  1.11292769e+05  1.25931678e+05\n",
            "  1.41799405e+05  1.58945418e+05  1.77419187e+05  1.97270181e+05\n",
            "  2.18547869e+05  2.41301721e+05  2.65581205e+05  2.91435791e+05\n",
            "  3.18914949e+05  3.48068148e+05  3.78944856e+05  4.11594544e+05\n",
            "  4.46066680e+05  4.82410735e+05  5.20676176e+05  5.60912473e+05\n",
            "  6.03169097e+05  6.47495515e+05  6.93941198e+05  7.42555614e+05\n",
            "  7.93388233e+05  8.46488524e+05  9.01905957e+05  9.59690000e+05]\n"
          ],
          "name": "stdout"
        }
      ]
    },
    {
      "cell_type": "code",
      "metadata": {
        "colab": {
          "base_uri": "https://localhost:8080/"
        },
        "id": "2gQBAoaQPEUK",
        "outputId": "376b5e5d-9cea-48b5-a40b-8ffd53a93f3c"
      },
      "source": [
        "# Tabla de Valores de la función\n",
        "print(\"%10s   %10s\" %(\"Valores de X\", \"Valores de y\"))\n",
        "\n",
        "for i in range(0,100):\n",
        "  print(\"%10.4f   %10.4f\" %(x[i], y[i]))\n"
      ],
      "execution_count": 4,
      "outputs": [
        {
          "output_type": "stream",
          "text": [
            "Valores de X   Valores de y\n",
            " -100.0000   -1039710.0000\n",
            "  -97.9798   -978726.2832\n",
            "  -95.9596   -920174.4766\n",
            "  -93.9394   -864005.1109\n",
            "  -91.9192   -810168.7167\n",
            "  -89.8990   -758615.8249\n",
            "  -87.8788   -709296.9661\n",
            "  -85.8586   -662162.6710\n",
            "  -83.8384   -617163.4703\n",
            "  -81.8182   -574249.8948\n",
            "  -79.7980   -533372.4752\n",
            "  -77.7778   -494481.7421\n",
            "  -75.7576   -457528.2263\n",
            "  -73.7374   -422462.4586\n",
            "  -71.7172   -389234.9695\n",
            "  -69.6970   -357796.2899\n",
            "  -67.6768   -328096.9504\n",
            "  -65.6566   -300087.4818\n",
            "  -63.6364   -273718.4147\n",
            "  -61.6162   -248940.2799\n",
            "  -59.5960   -225703.6082\n",
            "  -57.5758   -203958.9301\n",
            "  -55.5556   -183656.7764\n",
            "  -53.5354   -164747.6779\n",
            "  -51.5152   -147182.1652\n",
            "  -49.4949   -130910.7690\n",
            "  -47.4747   -115884.0202\n",
            "  -45.4545   -102052.4493\n",
            "  -43.4343   -89366.5871\n",
            "  -41.4141   -77776.9643\n",
            "  -39.3939   -67234.1116\n",
            "  -37.3737   -57688.5598\n",
            "  -35.3535   -49090.8395\n",
            "  -33.3333   -41391.4815\n",
            "  -31.3131   -34541.0164\n",
            "  -29.2929   -28489.9750\n",
            "  -27.2727   -23188.8881\n",
            "  -25.2525   -18588.2862\n",
            "  -23.2323   -14638.7001\n",
            "  -21.2121   -11290.6606\n",
            "  -19.1919   -8494.6983\n",
            "  -17.1717   -6201.3440\n",
            "  -15.1515   -4361.1284\n",
            "  -13.1313   -2924.5821\n",
            "  -11.1111   -1842.2359\n",
            "   -9.0909   -1064.6206\n",
            "   -7.0707    -542.2668\n",
            "   -5.0505    -225.7052\n",
            "   -3.0303     -65.4665\n",
            "   -1.0101     -12.0815\n",
            "    1.0101     -16.0809\n",
            "    3.0303     -27.9954\n",
            "    5.0505       1.6443\n",
            "    7.0707     122.3076\n",
            "    9.0909     383.4636\n",
            "   11.1111     834.5816\n",
            "   13.1313    1525.1310\n",
            "   15.1515    2504.5811\n",
            "   17.1717    3822.4010\n",
            "   19.1919    5528.0602\n",
            "   21.2121    7671.0279\n",
            "   23.2323   10300.7734\n",
            "   25.2525   13466.7659\n",
            "   27.2727   17218.4748\n",
            "   29.2929   21605.3694\n",
            "   31.3131   26676.9189\n",
            "   33.3333   32482.5926\n",
            "   35.3535   39071.8598\n",
            "   37.3737   46494.1898\n",
            "   39.3939   54799.0520\n",
            "   41.4141   64035.9154\n",
            "   43.4343   74254.2496\n",
            "   45.4545   85503.5237\n",
            "   47.4747   97833.2070\n",
            "   49.4949   111292.7688\n",
            "   51.5152   125931.6785\n",
            "   53.5354   141799.4052\n",
            "   55.5556   158945.4184\n",
            "   57.5758   177419.1872\n",
            "   59.5960   197270.1810\n",
            "   61.6162   218547.8690\n",
            "   63.6364   241301.7205\n",
            "   65.6566   265581.2049\n",
            "   67.6768   291435.7913\n",
            "   69.6970   318914.9492\n",
            "   71.7172   348068.1478\n",
            "   73.7374   378944.8563\n",
            "   75.7576   411594.5441\n",
            "   77.7778   446066.6804\n",
            "   79.7980   482410.7345\n",
            "   81.8182   520676.1758\n",
            "   83.8384   560912.4735\n",
            "   85.8586   603169.0969\n",
            "   87.8788   647495.5152\n",
            "   89.8990   693941.1978\n",
            "   91.9192   742555.6140\n",
            "   93.9394   793388.2330\n",
            "   95.9596   846488.5242\n",
            "   97.9798   901905.9567\n",
            "  100.0000   959690.0000\n"
          ],
          "name": "stdout"
        }
      ]
    },
    {
      "cell_type": "markdown",
      "metadata": {
        "id": "PaCmRI9QRaTR"
      },
      "source": [
        "# Librería Matplotlib\n",
        "\n",
        "## Visualización de Datos\n",
        "https://matplotlib.org/"
      ]
    },
    {
      "cell_type": "code",
      "metadata": {
        "id": "aGPkkh1GQ71h"
      },
      "source": [
        "# Generar el gráfico\n",
        "# Generar con la librería llamada matplotlib\n",
        "# Importar la librería\n",
        "import matplotlib.pyplot as plt"
      ],
      "execution_count": 5,
      "outputs": []
    },
    {
      "cell_type": "markdown",
      "metadata": {
        "id": "8Kf8xwCWUdu6"
      },
      "source": [
        "Colores del gráfico\n",
        "https://matplotlib.org/stable/gallery/color/named_colors.html"
      ]
    },
    {
      "cell_type": "code",
      "metadata": {
        "colab": {
          "base_uri": "https://localhost:8080/",
          "height": 299
        },
        "id": "X_sAa2sqRgwi",
        "outputId": "1f8dbe36-a72c-42fb-a4b6-b7e814bc8801"
      },
      "source": [
        "  # Generar el gráfico\n",
        "  plt.plot(x,y,'deepskyblue', label=\"y = f(x)\")\n",
        "  plt.title('Gráfico de la función: $y = x^3-4x^2-3x-10 = 0$')\n",
        "  plt.xlabel('Valores de x')\n",
        "  plt.ylabel('Valores de y')\n",
        "  plt.grid()\n",
        "  plt.legend()\n",
        "  plt.show()"
      ],
      "execution_count": 6,
      "outputs": [
        {
          "output_type": "display_data",
          "data": {
            "image/png": "[encoded data removed]",
            "text/plain": [
              "<Figure size 432x288 with 1 Axes>"
            ]
          },
          "metadata": {
            "tags": [],
            "needs_background": "light"
          }
        }
      ]
    },
    {
      "cell_type": "code",
      "metadata": {
        "colab": {
          "base_uri": "https://localhost:8080/",
          "height": 299
        },
        "id": "_MUboureV2zQ",
        "outputId": "d3d970c6-52e8-474c-b796-d49e2603b15d"
      },
      "source": [
        "  # Generar el gráfico\n",
        "  plt.plot(x,y,'deepskyblue', label=\"y = f(x)\")\n",
        "  plt.title('Gráfico de la función: $y = x^3-4x^2-3x-10 = 0$')\n",
        "  plt.xlabel('Valores de x')\n",
        "  plt.ylabel('Valores de y')\n",
        "  plt.xlim((4.93,4.94))\n",
        "  plt.ylim((-0.1,0.1))\n",
        "  plt.grid()\n",
        "  plt.legend()\n",
        "  plt.show()\n",
        "\n",
        "  # Se observa que la solución es alrededor de la función es x= 4.9382, donde cruza con y = 0"
      ],
      "execution_count": 13,
      "outputs": [
        {
          "output_type": "display_data",
          "data": {
            "image/png": "[encoded data removed]",
            "text/plain": [
              "<Figure size 432x288 with 1 Axes>"
            ]
          },
          "metadata": {
            "tags": [],
            "needs_background": "light"
          }
        }
      ]
    },
    {
      "cell_type": "markdown",
      "metadata": {
        "id": "HE6RfdXVWzUj"
      },
      "source": [
        "# Solucion con sympy\n",
        "## Resolver analíticamente ecuaciones algebraicas, diferencial, integrales, etc\n",
        "https://www.sympy.org/"
      ]
    },
    {
      "cell_type": "code",
      "metadata": {
        "id": "iuxXhQJrRgp1"
      },
      "source": [
        "# Solución Analítica\n",
        "# Es posible utilizar la librería de cálculo simbólico Sympy\n",
        "\n",
        "import sympy as sp"
      ],
      "execution_count": 8,
      "outputs": []
    },
    {
      "cell_type": "code",
      "metadata": {
        "colab": {
          "base_uri": "https://localhost:8080/",
          "height": 39
        },
        "id": "KpuGvpLCXOMr",
        "outputId": "7e06e29c-5f3b-478e-9fee-84ce995103a1"
      },
      "source": [
        "# Solucionar la ecuación\n",
        "# Definir la variable independiente\n",
        "# Las variables simbólicas las defino mayúsculas\n",
        "X = sp.symbols('x')\n",
        "display(X) # Lo muestra como una ecuación"
      ],
      "execution_count": 9,
      "outputs": [
        {
          "output_type": "display_data",
          "data": {
            "text/latex": "$\\displaystyle x$",
            "text/plain": [
              "x"
            ]
          },
          "metadata": {
            "tags": []
          }
        }
      ]
    },
    {
      "cell_type": "code",
      "metadata": {
        "colab": {
          "base_uri": "https://localhost:8080/",
          "height": 39
        },
        "id": "lcbPHnJXX0iE",
        "outputId": "357cb88d-f7e7-424d-93ba-403c5c7187a8"
      },
      "source": [
        "# Definir la función\n",
        "Y = X**3 - 4*X**2-3*X-10\n",
        "display(Y)"
      ],
      "execution_count": 10,
      "outputs": [
        {
          "output_type": "display_data",
          "data": {
            "text/latex": "$\\displaystyle x^{3} - 4 x^{2} - 3 x - 10$",
            "text/plain": [
              "x**3 - 4*x**2 - 3*x - 10"
            ]
          },
          "metadata": {
            "tags": []
          }
        }
      ]
    },
    {
      "cell_type": "code",
      "metadata": {
        "colab": {
          "base_uri": "https://localhost:8080/",
          "height": 39
        },
        "id": "KCPuZdVzYTWD",
        "outputId": "54e32492-d981-48eb-ea51-40429076f144"
      },
      "source": [
        "# Definir la ecuación\n",
        "ecuacion = sp.Eq(Y,0)\n",
        "display(ecuacion)\n"
      ],
      "execution_count": 11,
      "outputs": [
        {
          "output_type": "display_data",
          "data": {
            "text/latex": "$\\displaystyle x^{3} - 4 x^{2} - 3 x - 10 = 0$",
            "text/plain": [
              "Eq(x**3 - 4*x**2 - 3*x - 10, 0)"
            ]
          },
          "metadata": {
            "tags": []
          }
        }
      ]
    },
    {
      "cell_type": "code",
      "metadata": {
        "colab": {
          "base_uri": "https://localhost:8080/",
          "height": 94
        },
        "id": "93BDmU9lYz_M",
        "outputId": "e9ce2890-ad4d-43ba-b94a-e057b605763b"
      },
      "source": [
        "# Resolución de la ecuación\n",
        "solucion = sp.solve(ecuacion,X)\n",
        "\n",
        "print(f\"La solución de la ecuación:\")\n",
        "display(ecuacion)\n",
        "print(\"es la siguiente\")\n",
        "display(solucion)\n",
        "\n",
        "# Tiene una solución real x =5, y dos imaginarias"
      ],
      "execution_count": 12,
      "outputs": [
        {
          "output_type": "stream",
          "text": [
            "La solución de la ecuación:\n"
          ],
          "name": "stdout"
        },
        {
          "output_type": "display_data",
          "data": {
            "text/latex": "$\\displaystyle x^{3} - 4 x^{2} - 3 x - 10 = 0$",
            "text/plain": [
              "Eq(x**3 - 4*x**2 - 3*x - 10, 0)"
            ]
          },
          "metadata": {
            "tags": []
          }
        },
        {
          "output_type": "stream",
          "text": [
            "es la siguiente\n"
          ],
          "name": "stdout"
        },
        {
          "output_type": "display_data",
          "data": {
            "text/plain": [
              "[5, -1/2 - sqrt(7)*I/2, -1/2 + sqrt(7)*I/2]"
            ]
          },
          "metadata": {
            "tags": []
          }
        }
      ]
    }
  ]
}