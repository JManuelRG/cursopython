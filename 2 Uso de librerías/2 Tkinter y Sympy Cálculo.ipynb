{
 "cells": [
  {
   "cell_type": "code",
   "execution_count": 41,
   "metadata": {},
   "outputs": [],
   "source": [
    "# Programa que calcule la derivada y la integral de una función\n",
    "Enlace del video explicación: https://youtu.be/J5FDGZWk0x8\n"
    "from sympy import *\n",
    "from sympy.parsing.sympy_parser import parse_expr # Leer función introducida\n",
    "from tkinter import *\n",
    "\n",
    "def derivada():\n",
    "    try:\n",
    "        x = symbols('x') #Declarar variable independiente\n",
    "        fun_escrita = funcion.get()\n",
    "        f = parse_expr(fun_escrita)\n",
    "        derivada = diff(f,x)\n",
    "        etiqueta.configure(text=derivada)\n",
    "    except:\n",
    "        etiqueta.configure(text=\"Introduce la función correctamente\")\n",
    "        \n",
    "        \n",
    "def integral():\n",
    "    try:\n",
    "        x = symbols('x') #Declarar variable independiente\n",
    "        fun_escrita2 = funcion.get()\n",
    "        g = parse_expr(fun_escrita2)\n",
    "        integral = integrate(g,x)\n",
    "        etiqueta.configure(text=integral)\n",
    "    except:\n",
    "        etiqueta.configure(text=\"Introduce la función correctamente\")\n",
    "    \n",
    "ventana = Tk()\n",
    "ventana.geometry('400x280')\n",
    "ventana.title(\"Cálculo Diferencial e Integral: f(x)\")\n",
    "\n",
    "anuncio = Label(ventana, text=\"Introduce una función de x:\", font=(\"Arial\", 15), fg=\"blue\")\n",
    "anuncio.pack()\n",
    "\n",
    "funcion = Entry(ventana, font=(\"Arial\", 15))\n",
    "funcion.pack()\n",
    "\n",
    "etiqueta = Label(ventana, text=\"Resultado\", font=(\"Arial\", 15), fg=\"red\")\n",
    "etiqueta.pack()\n",
    "\n",
    "boton1 = Button(ventana, text=\"Derivar Función\", font=(\"Arial\", 15), command=derivada)\n",
    "boton1.pack()\n",
    "\n",
    "boton2 = Button(ventana, text=\"Integrar Función\", font=(\"Arial\", 15), command=integral)\n",
    "boton2.pack()\n",
    "\n",
    "def _quit(): #Función salir\n",
    "    ventana.quit()     # detiene mainloop\n",
    "    ventana.destroy()  # elimina la ventana de la memoria\n",
    "                    \n",
    "\n",
    "button3 = Button(master=ventana, text=\"Salir\", font=(\"Arial\", 15), command=_quit)\n",
    "button3.pack()\n",
    "\n",
    "ventana.mainloop()"
   ]
  }
 ],
 "metadata": {
  "kernelspec": {
   "display_name": "Python 3",
   "language": "python",
   "name": "python3"
  },
  "language_info": {
   "codemirror_mode": {
    "name": "ipython",
    "version": 3
   },
   "file_extension": ".py",
   "mimetype": "text/x-python",
   "name": "python",
   "nbconvert_exporter": "python",
   "pygments_lexer": "ipython3",
   "version": "3.8.3"
  }
 },
 "nbformat": 4,
 "nbformat_minor": 4
}
