{
  "nbformat": 4,
  "nbformat_minor": 0,
  "metadata": {
    "colab": {
      "name": "Condensacion de vapor.ipynb",
      "provenance": [],
      "authorship_tag": "ABX9TyOh+fZOYre+5+Bnwgish852",
      "include_colab_link": true
    },
    "kernelspec": {
      "name": "python3",
      "display_name": "Python 3"
    },
    "language_info": {
      "name": "python"
    }
  },
  "cells": [
    {
      "cell_type": "markdown",
      "metadata": {
        "id": "view-in-github",
        "colab_type": "text"
      },
      "source": [
        "<a href=\"https://colab.research.google.com/github/JManuelRG/cursopython/blob/main/2%20Uso%20de%20librer%C3%ADas/Condensacion_de_vapor.ipynb\" target=\"_parent\"><img src=\"https://colab.research.google.com/assets/colab-badge.svg\" alt=\"Open In Colab\"/></a>"
      ]
    },
    {
      "cell_type": "markdown",
      "source": [
        "# Ejercicio: Condensador con Cambio de Fase\n",
        "\n",
        "Un volumen de 0.008 pies cúbicos de vapor saturado de agua a 18 psi se conduce a un condensador. Si la cantidad de energía removida en el condensador es de 0.39 BTU, determinar el estado y la temperatura final del sistema.\n",
        "\n",
        "## Video Explicación de la solución:\n",
        "https://youtu.be/-zfQouxd9r8"
      ],
      "metadata": {
        "id": "0wTyq-nxytP6"
      }
    },
    {
      "cell_type": "code",
      "source": [
        "#Datos\n",
        "\n",
        "V=0.008 #ft3\n",
        "P=18 #psi\n",
        "Q=0.39 #BTU\n",
        "Cp=1 #BTU/lbm°F"
      ],
      "metadata": {
        "id": "ktD-Oh5Oyve3"
      },
      "execution_count": 1,
      "outputs": []
    },
    {
      "cell_type": "code",
      "source": [
        "def interp(xo,x1,yo,y1,x):\n",
        "  return (y1-yo)/(x1-xo)*(x-xo)+yo"
      ],
      "metadata": {
        "id": "uCzaEFUqzaLW"
      },
      "execution_count": 2,
      "outputs": []
    },
    {
      "cell_type": "code",
      "source": [
        "xo=15 \n",
        "x1=20\n",
        "\n",
        "T0=212.99\n",
        "T1=227.92\n",
        "\n",
        "vo=26.297\n",
        "v1=20.093\n",
        "\n",
        "hfg0=969.47\n",
        "hfg1=959.93"
      ],
      "metadata": {
        "id": "YjLd73J2y_9H"
      },
      "execution_count": 3,
      "outputs": []
    },
    {
      "cell_type": "code",
      "source": [
        "#valores interpolados\n",
        "Tsat=interp(xo,x1,T0,T1,P)\n",
        "vsat=interp(xo,x1,vo,v1,P)\n",
        "hfg=interp(xo,x1,hfg0,hfg1,P)\n",
        "\n",
        "#Resultados interpolados\n",
        "print(f\"Vg={vsat} ft3/lbm\")\n",
        "print(f\"Tsat={Tsat} °F\")\n",
        "print(f\"hfg={hfg} BTU/lbm\")"
      ],
      "metadata": {
        "id": "jXNLZcuJ0pN9",
        "colab": {
          "base_uri": "https://localhost:8080/"
        },
        "outputId": "a9cc9068-25fb-4633-fe73-afbdd12883af"
      },
      "execution_count": 4,
      "outputs": [
        {
          "output_type": "stream",
          "name": "stdout",
          "text": [
            "Vg=22.5746 ft3/lbm\n",
            "Tsat=221.948 °F\n",
            "hfg=963.746 BTU/lbm\n"
          ]
        }
      ]
    },
    {
      "cell_type": "markdown",
      "source": [
        "#Cálculo de la masa\n",
        "\n",
        "$$V_g=\\frac{V}{m}$$\n",
        "\n",
        "$$m=\\frac{V}{V_g}$$"
      ],
      "metadata": {
        "id": "S3RW1K5sTyMA"
      }
    },
    {
      "cell_type": "code",
      "source": [
        "#vesp=v/m   =>  m=v/vesp\n",
        "m=V/vsat\n",
        "print(f\"La masa es {m} lbm\")"
      ],
      "metadata": {
        "colab": {
          "base_uri": "https://localhost:8080/"
        },
        "id": "SyN9XDxZ1ZIh",
        "outputId": "908c5b88-5165-4dab-a6cf-bfbb35d8b15a"
      },
      "execution_count": 5,
      "outputs": [
        {
          "output_type": "stream",
          "name": "stdout",
          "text": [
            "La masa es 0.0003543805870314424 lbm\n"
          ]
        }
      ]
    },
    {
      "cell_type": "code",
      "source": [
        "# calor latente\n",
        "Q1=hfg*m\n",
        "print(f\"Calor latente ={Q1} BTU\")"
      ],
      "metadata": {
        "id": "PaEzP_s91zkL",
        "colab": {
          "base_uri": "https://localhost:8080/"
        },
        "outputId": "e82283a2-586e-4d25-fa8c-ec19c6188774"
      },
      "execution_count": 6,
      "outputs": [
        {
          "output_type": "stream",
          "name": "stdout",
          "text": [
            "Calor latente =0.3415328732292045 BTU\n"
          ]
        }
      ]
    },
    {
      "cell_type": "code",
      "source": [
        "#Calor sensible\n",
        "Q2=Q-Q1\n",
        "print(f\"Calor Sensible= {Q2} BTU\")"
      ],
      "metadata": {
        "id": "xmdWPpWy4J9w",
        "colab": {
          "base_uri": "https://localhost:8080/"
        },
        "outputId": "408a8ee9-fa35-4cd4-f02f-57efe0fcfd65"
      },
      "execution_count": 7,
      "outputs": [
        {
          "output_type": "stream",
          "name": "stdout",
          "text": [
            "Calor Sensible= 0.04846712677079551 BTU\n"
          ]
        }
      ]
    },
    {
      "cell_type": "markdown",
      "source": [
        "$$Q_{sensible}=mC_P \\Delta(T_f-To)$$\n",
        "\n",
        "$$T_F=-Q_{sensible}/(mC_P)+T_o$$\n"
      ],
      "metadata": {
        "id": "RE9eyytsWxKE"
      }
    },
    {
      "cell_type": "code",
      "source": [
        "Tf=-Q2/(m*Cp)+Tsat\n",
        "print(f\"La temperatura final del agua es de {Tf}°F\")"
      ],
      "metadata": {
        "colab": {
          "base_uri": "https://localhost:8080/"
        },
        "id": "oyiS5_834Pzb",
        "outputId": "037845c1-0c5c-4ea6-c911-d98460e00da1"
      },
      "execution_count": 8,
      "outputs": [
        {
          "output_type": "stream",
          "name": "stdout",
          "text": [
            "La temperatura final del agua es de 85.18224999999995°F\n"
          ]
        }
      ]
    }
  ]
}