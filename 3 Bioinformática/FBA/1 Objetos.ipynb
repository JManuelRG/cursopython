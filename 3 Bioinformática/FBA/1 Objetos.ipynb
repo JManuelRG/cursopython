{
  "nbformat": 4,
  "nbformat_minor": 0,
  "metadata": {
    "colab": {
      "name": "Objetos.ipynb",
      "provenance": [],
      "authorship_tag": "ABX9TyORdAUrBZJswFiqv+Yjju2/",
      "include_colab_link": true
    },
    "kernelspec": {
      "name": "python3",
      "display_name": "Python 3"
    },
    "language_info": {
      "name": "python"
    }
  },
  "cells": [
    {
      "cell_type": "markdown",
      "metadata": {
        "id": "view-in-github",
        "colab_type": "text"
      },
      "source": [
        "<a href=\"https://colab.research.google.com/github/JManuelRG/cursopython/blob/main/3%20Bioinform%C3%A1tica/FBA/1%20Objetos.ipynb\" target=\"_parent\"><img src=\"https://colab.research.google.com/assets/colab-badge.svg\" alt=\"Open In Colab\"/></a>"
      ]
    },
    {
      "cell_type": "markdown",
      "metadata": {
        "id": "6K18vQvWjV9h"
      },
      "source": [
        "# Objetos en Python\n",
        "\n",
        "Cualquier elemento en Python es un objeto\n",
        "\n",
        "Por ejemplo una librería:\n",
        "Una librería contiene métodos (funciones), variables (constantes)\n",
        "\n",
        "Para llamar un elemento de un objeto en Python se usa:\n",
        "Objeto.elemento"
      ]
    },
    {
      "cell_type": "code",
      "metadata": {
        "id": "PK7F-zzujZMy"
      },
      "source": [
        "# Por ejemplo la librería matemática\n",
        "import math"
      ],
      "execution_count": null,
      "outputs": []
    },
    {
      "cell_type": "code",
      "metadata": {
        "colab": {
          "base_uri": "https://localhost:8080/"
        },
        "id": "eIVY2WN-jnMw",
        "outputId": "9f5d6dd3-1b4a-4e25-d84f-d43f76a88db9"
      },
      "source": [
        "# llamar Pi(constante) de la librería Math(objeto)\n",
        "math.pi"
      ],
      "execution_count": null,
      "outputs": [
        {
          "output_type": "execute_result",
          "data": {
            "text/plain": [
              "3.141592653589793"
            ]
          },
          "metadata": {
            "tags": []
          },
          "execution_count": 2
        }
      ]
    },
    {
      "cell_type": "code",
      "metadata": {
        "colab": {
          "base_uri": "https://localhost:8080/"
        },
        "id": "Al6yd3FPkJ-M",
        "outputId": "1eb341bc-be20-4bf8-ad85-9020e614bc48"
      },
      "source": [
        "# llamar función seno, del elemento pi\n",
        "print(\"El seno de pi es:\")\n",
        "math.sin(math.pi)"
      ],
      "execution_count": null,
      "outputs": [
        {
          "output_type": "stream",
          "text": [
            "El seno de pi es:\n"
          ],
          "name": "stdout"
        },
        {
          "output_type": "execute_result",
          "data": {
            "text/plain": [
              "1.2246467991473532e-16"
            ]
          },
          "metadata": {
            "tags": []
          },
          "execution_count": 4
        }
      ]
    },
    {
      "cell_type": "code",
      "metadata": {
        "colab": {
          "base_uri": "https://localhost:8080/"
        },
        "id": "3mdOCFsGkZ-7",
        "outputId": "1c5e32e6-321f-41c3-da61-2902f7bd5d30"
      },
      "source": [
        "# Crear un objeto propio (clase):\n",
        "\n",
        "class Reaccion:\n",
        "  reactivos=[\"glucosa\", \"CO2\"]\n",
        "  productos=[\"agua\", \"R-OH\"]\n",
        "  dG = -14443 # J/mol\n",
        "  \n",
        "# Llamar valores o métodos de cada objeto, indexados por ser listas\n",
        "reactivo1 = Reaccion.reactivos[0]\n",
        "reactivo2 = Reaccion.reactivos[1]\n",
        "producto1 = Reaccion.productos[0]\n",
        "producto2 = Reaccion.productos[1]\n",
        "energia = Reaccion.dG\n",
        "\n",
        "\n",
        "print(\"La reacción metabólica es:\")\n",
        "print(f\"{reactivo1} + {reactivo2} --> {producto1} + {producto2}\")\n",
        "print(f\"La energía libre de Gibbs de la reacción, es {energia} J/mol\")\n"
      ],
      "execution_count": null,
      "outputs": [
        {
          "output_type": "stream",
          "text": [
            "La reacción metabólica es:\n",
            "glucosa + CO2 --> agua + R-OH\n",
            "La energía libre de Gibbs de la reacción, es -14443 J/mol\n"
          ],
          "name": "stdout"
        }
      ]
    },
    {
      "cell_type": "code",
      "metadata": {
        "colab": {
          "base_uri": "https://localhost:8080/",
          "height": 35
        },
        "id": "OMqVJLtYuZLV",
        "outputId": "84e168ff-88eb-4faa-8663-cd0522273c99"
      },
      "source": [
        "# Declarar Objetos: https://www.w3schools.com/python/python_classes.asp\n",
        "#Ejemplo:\n",
        "class Persona:\n",
        "  def __init__(self, nombre, edad):\n",
        "    self.nombre = nombre\n",
        "    self.edad = edad\n",
        "\n",
        "# Instanciar: Crear Variables similares con información diferente\n",
        "# Crear diferentes instancias\n",
        "persona1 = Persona(\"Andrés\", 20)\n",
        "persona2 = Persona(\"Iván\", 20)\n",
        "persona3 = Persona(\"José\", 20)\n",
        "\n",
        "persona3.nombre\n"
      ],
      "execution_count": 36,
      "outputs": [
        {
          "output_type": "execute_result",
          "data": {
            "application/vnd.google.colaboratory.intrinsic+json": {
              "type": "string"
            },
            "text/plain": [
              "'José'"
            ]
          },
          "metadata": {
            "tags": []
          },
          "execution_count": 36
        }
      ]
    },
    {
      "cell_type": "code",
      "metadata": {
        "colab": {
          "base_uri": "https://localhost:8080/",
          "height": 35
        },
        "id": "xxSm8YfqvrUB",
        "outputId": "98670b2e-6dba-41a0-bb67-727525743bb5"
      },
      "source": [
        "# Declarar Objetos: https://www.w3schools.com/python/python_classes.asp\n",
        "\n",
        "class Modelo:\n",
        "# self => este objeto\n",
        "  def __init__(self, primerarg, segundoarg):\n",
        "    self.metabolitos=primerarg # Propiedad metabolitos de este objeto\n",
        "    self.productos = segundoarg # Propiedad productos de este objeto\n",
        "\n",
        "# Instanciar: Crear Variables similares con información diferente\n",
        "# Crear diferentes instancias\n",
        "organismo1 = Modelo([\"glucosa\",\"alcohol\"], [\"agua\", \"producto industrial\"])\n",
        "organismo2 = Modelo([\"dextrosa\",\"ácido\"], [\"agua\", \"producto industrial 2\"])\n",
        "\n",
        "\n",
        "organismo2.productos[1]"
      ],
      "execution_count": 37,
      "outputs": [
        {
          "output_type": "execute_result",
          "data": {
            "application/vnd.google.colaboratory.intrinsic+json": {
              "type": "string"
            },
            "text/plain": [
              "'producto industrial 2'"
            ]
          },
          "metadata": {
            "tags": []
          },
          "execution_count": 37
        }
      ]
    },
    {
      "cell_type": "code",
      "metadata": {
        "id": "04nUOPCjCVBO"
      },
      "source": [
        "# De manera más sencilla:\n",
        "# Declarar Objetos: https://www.w3schools.com/python/python_classes.asp\n",
        "\n",
        "class Modelo:\n",
        "# self => este objeto\n",
        "  def __init__(self, metabolitos, productos):\n",
        "    self.metabolitos=metabolitos # Propiedad metabolitos de este objeto\n",
        "    self.productos = productos # Propiedad productos de este objeto\n",
        "\n",
        "# Instanciar: Crear Variables similares con información diferente\n",
        "# Crear diferentes instancias\n",
        "organismo1 = Modelo([\"glucosa\",\"alcohol\"], [\"agua\", \"producto industrial\"])\n",
        "organismo2 = Modelo([\"dextrosa\",\"ácido\"], [\"agua\", \"producto industrial 2\"])\n",
        "\n",
        "\n",
        "organismo2.metabolitos[0]"
      ],
      "execution_count": null,
      "outputs": []
    },
    {
      "cell_type": "code",
      "metadata": {
        "id": "GflqClg0CYJ3"
      },
      "source": [
        "! Instalar cobra\n",
        "\n",
        "# En anaconda prompt:\n",
        "pip install cobra\n",
        "\n",
        "# En google colab\n",
        "#Emular terminal de linux con !\n",
        "!pip install cobra"
      ],
      "execution_count": null,
      "outputs": []
    }
  ]
}