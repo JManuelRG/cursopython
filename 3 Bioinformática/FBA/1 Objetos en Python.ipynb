{
  "nbformat": 4,
  "nbformat_minor": 0,
  "metadata": {
    "colab": {
      "name": "Objetos.ipynb",
      "provenance": [],
      "authorship_tag": "ABX9TyMONO6nqg7h9EV1XBkuY1rT",
      "include_colab_link": true
    },
    "kernelspec": {
      "name": "python3",
      "display_name": "Python 3"
    },
    "language_info": {
      "name": "python"
    }
  },
  "cells": [
    {
      "cell_type": "markdown",
      "metadata": {
        "id": "view-in-github",
        "colab_type": "text"
      },
      "source": [
        "<a href=\"https://colab.research.google.com/github/JManuelRG/cursopython/blob/main/3%20Bioinform%C3%A1tica/FBA/1%20Objetos%20en%20Python.ipynb\" target=\"_parent\"><img src=\"https://colab.research.google.com/assets/colab-badge.svg\" alt=\"Open In Colab\"/></a>"
      ]
    },
    {
      "cell_type": "markdown",
      "metadata": {
        "id": "6K18vQvWjV9h"
      },
      "source": [
        "# Objetos en Python\n",
        "\n",
        "Cualquier elemento en Python es un objeto\n",
        "\n",
        "Por ejemplo una librería:\n",
        "Una librería contiene métodos (funciones), variables (constantes)\n",
        "\n",
        "Para llamar un elemento de un objeto en Python se usa:\n",
        "Objeto.elemento"
      ]
    },
    {
      "cell_type": "code",
      "metadata": {
        "id": "PK7F-zzujZMy"
      },
      "source": [
        "import math"
      ],
      "execution_count": null,
      "outputs": []
    },
    {
      "cell_type": "code",
      "metadata": {
        "colab": {
          "base_uri": "https://localhost:8080/"
        },
        "id": "eIVY2WN-jnMw",
        "outputId": "9f5d6dd3-1b4a-4e25-d84f-d43f76a88db9"
      },
      "source": [
        "# llamar Pi(constante) de la librería Math(objeto)\n",
        "math.pi"
      ],
      "execution_count": null,
      "outputs": [
        {
          "output_type": "execute_result",
          "data": {
            "text/plain": [
              "3.141592653589793"
            ]
          },
          "metadata": {
            "tags": []
          },
          "execution_count": 2
        }
      ]
    },
    {
      "cell_type": "code",
      "metadata": {
        "colab": {
          "base_uri": "https://localhost:8080/"
        },
        "id": "Al6yd3FPkJ-M",
        "outputId": "1eb341bc-be20-4bf8-ad85-9020e614bc48"
      },
      "source": [
        "# llamar función seno, del elemento pi\n",
        "print(\"El seno de pi es:\")\n",
        "math.sin(math.pi)"
      ],
      "execution_count": null,
      "outputs": [
        {
          "output_type": "stream",
          "text": [
            "El seno de pi es:\n"
          ],
          "name": "stdout"
        },
        {
          "output_type": "execute_result",
          "data": {
            "text/plain": [
              "1.2246467991473532e-16"
            ]
          },
          "metadata": {
            "tags": []
          },
          "execution_count": 4
        }
      ]
    },
    {
      "cell_type": "code",
      "metadata": {
        "colab": {
          "base_uri": "https://localhost:8080/"
        },
        "id": "3mdOCFsGkZ-7",
        "outputId": "1c5e32e6-321f-41c3-da61-2902f7bd5d30"
      },
      "source": [
        "# Crear un objeto propio (clase):\n",
        "\n",
        "class Reaccion:\n",
        "  reactivos=[\"glucosa\", \"CO2\"]\n",
        "  productos=[\"agua\", \"R-OH\"]\n",
        "  dG = -14443 # J/mol\n",
        "  \n",
        "# Llamar valores o métodos de cada objeto, indexados por ser listas\n",
        "reactivo1 = Reaccion.reactivos[0]\n",
        "reactivo2 = Reaccion.reactivos[1]\n",
        "producto1 = Reaccion.productos[0]\n",
        "producto2 = Reaccion.productos[1]\n",
        "energia = Reaccion.dG\n",
        "\n",
        "\n",
        "print(\"La reacción metabólica es:\")\n",
        "print(f\"{reactivo1} + {reactivo2} --> {producto1} + {producto2}\")\n",
        "print(f\"La energía libre de Gibbs de la reacción, es {energia} J/mol\")\n"
      ],
      "execution_count": null,
      "outputs": [
        {
          "output_type": "stream",
          "text": [
            "La reacción metabólica es:\n",
            "glucosa + CO2 --> agua + R-OH\n",
            "La energía libre de Gibbs de la reacción, es -14443 J/mol\n"
          ],
          "name": "stdout"
        }
      ]
    },
    {
      "cell_type": "code",
      "metadata": {
        "colab": {
          "base_uri": "https://localhost:8080/",
          "height": 35
        },
        "id": "OMqVJLtYuZLV",
        "outputId": "f4e3f3c5-c318-447b-cdbf-efcbde2e4e52"
      },
      "source": [
        "# Declarar Objetos: https://www.w3schools.com/python/python_classes.asp\n",
        "\n",
        "Ejemplo:\n",
        "class Persona:\n",
        "  def __init__(self, nombre, edad):\n",
        "    self.nombre = nombre\n",
        "    self.edad = edad\n",
        "\n",
        "# Instanciar: Crear Variables similares con información diferente\n",
        "# Crear diferentes instancias\n",
        "persona1 = Persona(\"Andrés\", 20)\n",
        "persona2 = Persona(\"Iván\", 20)\n",
        "persona3 = Persona(\"José\", 20)\n",
        "\n",
        "persona2.nombre\n"
      ],
      "execution_count": null,
      "outputs": [
        {
          "output_type": "execute_result",
          "data": {
            "application/vnd.google.colaboratory.intrinsic+json": {
              "type": "string"
            },
            "text/plain": [
              "'Iván'"
            ]
          },
          "metadata": {
            "tags": []
          },
          "execution_count": 24
        }
      ]
    },
    {
      "cell_type": "code",
      "metadata": {
        "colab": {
          "base_uri": "https://localhost:8080/",
          "height": 35
        },
        "id": "xxSm8YfqvrUB",
        "outputId": "b2d0f5e9-947d-4b93-87c2-bbfb512f5fee"
      },
      "source": [
        "# Declarar Objetos: https://www.w3schools.com/python/python_classes.asp\n",
        "\n",
        "class Modelo:\n",
        "# self => este objeto\n",
        "  def __init__(self, primerarg, segundoarg):\n",
        "    self.metabolitos=primerarg # Propiedad metabolitos de este objeto\n",
        "    self.productos = segundoarg # Propiedad productos de este objeto\n",
        "\n",
        "# Instanciar: Crear Variables similares con información diferente\n",
        "# Crear diferentes instancias\n",
        "organismo1 = Modelo(primerarg=[\"glucosa\",\"alcohol\"], segundoarg=[\"agua\", \"producto industrial\"])\n",
        "organismo2 = Modelo([\"dextrosa\",\"ácido\"], [\"agua\", \"producto industrial 2\"])\n",
        "\n",
        "\n",
        "organismo2.productos[1]"
      ],
      "execution_count": null,
      "outputs": [
        {
          "output_type": "execute_result",
          "data": {
            "application/vnd.google.colaboratory.intrinsic+json": {
              "type": "string"
            },
            "text/plain": [
              "'producto industrial 2'"
            ]
          },
          "metadata": {
            "tags": []
          },
          "execution_count": 29
        }
      ]
    },
    {
      "cell_type": "code",
      "metadata": {
        "colab": {
          "base_uri": "https://localhost:8080/",
          "height": 35
        },
        "id": "U86i_fumpBJK",
        "outputId": "3c716e75-b897-4aaa-cabd-1fd7f16a8460"
      },
      "source": [
        "# Declarar Objetos: https://www.w3schools.com/python/python_classes.asp\n",
        "\n",
        "class Modelo:\n",
        "# self => este objeto\n",
        "  def __init__(self, primerarg, segundoarg):\n",
        "    self.metabolitos=primerarg # Propiedad metabolitos de este objeto\n",
        "    self.productos = segundoarg # Propiedad productos de este objeto\n",
        "\n",
        "# Instanciar: Crear Variables similares con información diferente\n",
        "# Crear diferentes instancias\n",
        "organismo1 = Modelo(primerarg=[\"glucosa\",\"alcohol\"], segundoarg=[\"agua\", \"producto industrial\"])\n",
        "organismo2 = Modelo([\"dextrosa\",\"ácido\"], [\"agua\", \"producto industrial 2\"])\n",
        "\n",
        "\n",
        "organismo2.productos[1]"
      ],
      "execution_count": 30,
      "outputs": [
        {
          "output_type": "execute_result",
          "data": {
            "application/vnd.google.colaboratory.intrinsic+json": {
              "type": "string"
            },
            "text/plain": [
              "'producto industrial 2'"
            ]
          },
          "metadata": {
            "tags": []
          },
          "execution_count": 30
        }
      ]
    },
    {
      "cell_type": "code",
      "metadata": {
        "colab": {
          "base_uri": "https://localhost:8080/",
          "height": 35
        },
        "id": "Y6VrpfVM5_im",
        "outputId": "3d30ce81-7614-4b64-85c4-d037d21cf733"
      },
      "source": [
        "# De manera más sencilla:\n",
        "# Declarar Objetos: https://www.w3schools.com/python/python_classes.asp\n",
        "\n",
        "class Modelo:\n",
        "# self => este objeto\n",
        "  def __init__(self, metabolitos, productos):\n",
        "    self.metabolitos=metabolitos # Propiedad metabolitos de este objeto\n",
        "    self.productos = productos # Propiedad productos de este objeto\n",
        "\n",
        "# Instanciar: Crear Variables similares con información diferente\n",
        "# Crear diferentes instancias\n",
        "organismo1 = Modelo([\"glucosa\",\"alcohol\"], [\"agua\", \"producto industrial\"])\n",
        "organismo2 = Modelo([\"dextrosa\",\"ácido\"], [\"agua\", \"producto industrial 2\"])\n",
        "\n",
        "\n",
        "organismo2.productos[1]"
      ],
      "execution_count": 32,
      "outputs": [
        {
          "output_type": "execute_result",
          "data": {
            "application/vnd.google.colaboratory.intrinsic+json": {
              "type": "string"
            },
            "text/plain": [
              "'producto industrial 2'"
            ]
          },
          "metadata": {
            "tags": []
          },
          "execution_count": 32
        }
      ]
    },
    {
      "cell_type": "code",
      "metadata": {
        "colab": {
          "base_uri": "https://localhost:8080/"
        },
        "id": "eXv174VV6UiW",
        "outputId": "85fcf150-8a1c-48dd-a1d3-6fcab81ba3fd"
      },
      "source": [
        "# Instalar CobraPy\n",
        "# Emular terminal linux con !\n",
        "!pip install cobra"
      ],
      "execution_count": 33,
      "outputs": [
        {
          "output_type": "stream",
          "text": [
            "Requirement already satisfied: cobra in /usr/local/lib/python3.7/dist-packages (0.22.0)\n",
            "Requirement already satisfied: depinfo in /usr/local/lib/python3.7/dist-packages (from cobra) (1.7.0)\n",
            "Requirement already satisfied: pydantic~=1.6 in /usr/local/lib/python3.7/dist-packages (from cobra) (1.8.1)\n",
            "Requirement already satisfied: appdirs~=1.4 in /usr/local/lib/python3.7/dist-packages (from cobra) (1.4.4)\n",
            "Requirement already satisfied: ruamel.yaml~=0.16 in /usr/local/lib/python3.7/dist-packages (from cobra) (0.17.4)\n",
            "Requirement already satisfied: pandas~=1.0 in /usr/local/lib/python3.7/dist-packages (from cobra) (1.1.5)\n",
            "Requirement already satisfied: swiglpk in /usr/local/lib/python3.7/dist-packages (from cobra) (5.0.3)\n",
            "Requirement already satisfied: rich>=8.0 in /usr/local/lib/python3.7/dist-packages (from cobra) (10.1.0)\n",
            "Requirement already satisfied: numpy~=1.13 in /usr/local/lib/python3.7/dist-packages (from cobra) (1.19.5)\n",
            "Requirement already satisfied: future in /usr/local/lib/python3.7/dist-packages (from cobra) (0.16.0)\n",
            "Requirement already satisfied: diskcache~=5.0 in /usr/local/lib/python3.7/dist-packages (from cobra) (5.2.1)\n",
            "Requirement already satisfied: optlang~=1.5 in /usr/local/lib/python3.7/dist-packages (from cobra) (1.5.1)\n",
            "Requirement already satisfied: httpx~=0.14 in /usr/local/lib/python3.7/dist-packages (from cobra) (0.18.1)\n",
            "Requirement already satisfied: python-libsbml==5.19.0 in /usr/local/lib/python3.7/dist-packages (from cobra) (5.19.0)\n",
            "Requirement already satisfied: importlib-resources in /usr/local/lib/python3.7/dist-packages (from cobra) (5.1.2)\n",
            "Requirement already satisfied: importlib-metadata; python_version < \"3.8\" in /usr/local/lib/python3.7/dist-packages (from depinfo->cobra) (3.10.1)\n",
            "Requirement already satisfied: typing-extensions>=3.7.4.3 in /usr/local/lib/python3.7/dist-packages (from pydantic~=1.6->cobra) (3.7.4.3)\n",
            "Requirement already satisfied: ruamel.yaml.clib>=0.1.2; platform_python_implementation == \"CPython\" and python_version < \"3.10\" in /usr/local/lib/python3.7/dist-packages (from ruamel.yaml~=0.16->cobra) (0.2.2)\n",
            "Requirement already satisfied: python-dateutil>=2.7.3 in /usr/local/lib/python3.7/dist-packages (from pandas~=1.0->cobra) (2.8.1)\n",
            "Requirement already satisfied: pytz>=2017.2 in /usr/local/lib/python3.7/dist-packages (from pandas~=1.0->cobra) (2018.9)\n",
            "Requirement already satisfied: colorama<0.5.0,>=0.4.0 in /usr/local/lib/python3.7/dist-packages (from rich>=8.0->cobra) (0.4.4)\n",
            "Requirement already satisfied: pygments<3.0.0,>=2.6.0 in /usr/local/lib/python3.7/dist-packages (from rich>=8.0->cobra) (2.6.1)\n",
            "Requirement already satisfied: commonmark<0.10.0,>=0.9.0 in /usr/local/lib/python3.7/dist-packages (from rich>=8.0->cobra) (0.9.1)\n",
            "Requirement already satisfied: sympy>=1.0 in /usr/local/lib/python3.7/dist-packages (from optlang~=1.5->cobra) (1.7.1)\n",
            "Requirement already satisfied: six>=1.9 in /usr/local/lib/python3.7/dist-packages (from optlang~=1.5->cobra) (1.15.0)\n",
            "Requirement already satisfied: httpcore<0.14.0,>=0.13.0 in /usr/local/lib/python3.7/dist-packages (from httpx~=0.14->cobra) (0.13.2)\n",
            "Requirement already satisfied: sniffio in /usr/local/lib/python3.7/dist-packages (from httpx~=0.14->cobra) (1.2.0)\n",
            "Requirement already satisfied: certifi in /usr/local/lib/python3.7/dist-packages (from httpx~=0.14->cobra) (2020.12.5)\n",
            "Requirement already satisfied: rfc3986[idna2008]<2,>=1.3 in /usr/local/lib/python3.7/dist-packages (from httpx~=0.14->cobra) (1.4.0)\n",
            "Requirement already satisfied: zipp>=0.4; python_version < \"3.8\" in /usr/local/lib/python3.7/dist-packages (from importlib-resources->cobra) (3.4.1)\n",
            "Requirement already satisfied: mpmath>=0.19 in /usr/local/lib/python3.7/dist-packages (from sympy>=1.0->optlang~=1.5->cobra) (1.2.1)\n",
            "Requirement already satisfied: h11==0.* in /usr/local/lib/python3.7/dist-packages (from httpcore<0.14.0,>=0.13.0->httpx~=0.14->cobra) (0.12.0)\n",
            "Requirement already satisfied: idna; extra == \"idna2008\" in /usr/local/lib/python3.7/dist-packages (from rfc3986[idna2008]<2,>=1.3->httpx~=0.14->cobra) (2.10)\n"
          ],
          "name": "stdout"
        }
      ]
    }
  ]
}