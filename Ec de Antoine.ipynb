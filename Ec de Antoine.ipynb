{
  "nbformat": 4,
  "nbformat_minor": 0,
  "metadata": {
    "colab": {
      "name": "Ec de Antoine.ipynb",
      "provenance": [],
      "authorship_tag": "ABX9TyPvkfr5o/bgfqk0GEjR5lwu",
      "include_colab_link": true
    },
    "kernelspec": {
      "name": "python3",
      "display_name": "Python 3"
    },
    "language_info": {
      "name": "python"
    }
  },
  "cells": [
    {
      "cell_type": "markdown",
      "metadata": {
        "id": "view-in-github",
        "colab_type": "text"
      },
      "source": [
        "<a href=\"https://colab.research.google.com/github/JManuelRG/cursopython/blob/main/Ec%20de%20Antoine.ipynb\" target=\"_parent\"><img src=\"https://colab.research.google.com/assets/colab-badge.svg\" alt=\"Open In Colab\"/></a>"
      ]
    },
    {
      "cell_type": "markdown",
      "metadata": {
        "id": "WwK1uBGsu-kw"
      },
      "source": [
        "# Ecuación de Antoine\n",
        "\n",
        "Cálculo de las presiones de saturación de sustencias puras\n",
        "\n",
        "$$ ln P^{sat}(kPa) = A - B/(T(°C)+C) $$\n",
        "\n",
        "Despejando presión:\n",
        "\n",
        "$$ P^{sat}(kPa) = exp(A - B/(T(°C)+C) $$\n"
      ]
    },
    {
      "cell_type": "code",
      "metadata": {
        "id": "TrVo5ggNvaSx"
      },
      "source": [
        "# Benceno\n",
        "Ab = 13.7819\n",
        "Bb = 2726.81\n",
        "Cb = 217.572"
      ],
      "execution_count": 2,
      "outputs": []
    },
    {
      "cell_type": "code",
      "metadata": {
        "id": "5f2IAiCwwcYP"
      },
      "source": [
        "# Tolueno\n",
        "At = 13.9320\n",
        "Bt = 3056.96\n",
        "Ct = 217.625"
      ],
      "execution_count": 6,
      "outputs": []
    },
    {
      "cell_type": "code",
      "metadata": {
        "id": "pEAYZcx3w2Yw"
      },
      "source": [
        "# Definir función con la fórmula\n",
        "def Psat(A,B,C,T):\n",
        "  import math\n",
        "  return math.exp(A-B/(T+C))"
      ],
      "execution_count": 9,
      "outputs": []
    },
    {
      "cell_type": "code",
      "metadata": {
        "id": "xeQ1VjBvzKTL"
      },
      "source": [
        "# Declarar T \n",
        "T=30"
      ],
      "execution_count": 16,
      "outputs": []
    },
    {
      "cell_type": "code",
      "metadata": {
        "colab": {
          "base_uri": "https://localhost:8080/"
        },
        "id": "odhjXGEhxv9m",
        "outputId": "7b918ca5-bb70-49c2-ea7d-9eebe4967a89"
      },
      "source": [
        "Psb = Psat(Ab,Bb,Cb,T)\n",
        "print(f\"La Psat del benceno es {Psb} kPa\")"
      ],
      "execution_count": 17,
      "outputs": [
        {
          "output_type": "stream",
          "name": "stdout",
          "text": [
            "La Psat del benceno es 15.92181198999215 kPa\n"
          ]
        }
      ]
    },
    {
      "cell_type": "code",
      "metadata": {
        "colab": {
          "base_uri": "https://localhost:8080/"
        },
        "id": "yXUDLiI7yBMk",
        "outputId": "8b211c65-6770-4c67-b865-0141823d04bd"
      },
      "source": [
        "Pst = Psat(At,Bt,Ct,T)\n",
        "print(f\"La Psat del tolueno es {7.5*Pst} mmHg\")"
      ],
      "execution_count": 19,
      "outputs": [
        {
          "output_type": "stream",
          "name": "stdout",
          "text": [
            "La Psat del tolueno es 36.663598398652326 mmHg\n"
          ]
        }
      ]
    },
    {
      "cell_type": "code",
      "metadata": {
        "colab": {
          "base_uri": "https://localhost:8080/"
        },
        "id": "3G_RESEmz2Dc",
        "outputId": "eb08a988-bf88-4f8d-d776-64c9d8eb6bcb"
      },
      "source": [
        "print(f\"La Psat del benceno es {7.5*Psb} mmHg\")"
      ],
      "execution_count": 20,
      "outputs": [
        {
          "output_type": "stream",
          "name": "stdout",
          "text": [
            "La Psat del benceno es 119.41358992494114 mmHg\n"
          ]
        }
      ]
    },
    {
      "cell_type": "code",
      "metadata": {
        "id": "mlNOaTdCz2WF"
      },
      "source": [
        ""
      ],
      "execution_count": null,
      "outputs": []
    }
  ]
}