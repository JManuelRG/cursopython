{
  "nbformat": 4,
  "nbformat_minor": 0,
  "metadata": {
    "colab": {
      "name": "Estructuras de control.ipynb",
      "provenance": [],
      "authorship_tag": "ABX9TyP1ZEGDf3J/Vs6LaUxt0oQj",
      "include_colab_link": true
    },
    "kernelspec": {
      "name": "python3",
      "display_name": "Python 3"
    },
    "language_info": {
      "name": "python"
    }
  },
  "cells": [
    {
      "cell_type": "markdown",
      "metadata": {
        "id": "view-in-github",
        "colab_type": "text"
      },
      "source": [
        "<a href=\"https://colab.research.google.com/github/JManuelRG/cursopython/blob/main/1%20Uso%20del%20lenguaje/3%20Estructura%20de%20Decisi%C3%B3n%20IF.ipynb\" target=\"_parent\"><img src=\"https://colab.research.google.com/assets/colab-badge.svg\" alt=\"Open In Colab\"/></a>"
      ]
    },
    {
      "cell_type": "markdown",
      "metadata": {
        "id": "G-Pg6-ugppA2"
      },
      "source": [
        "# Estructuras de control\n",
        "\n",
        "Son herramientas que regulan o dirigen el flujo del programa, dependiendo de condiciones definidas por el programador.\n",
        "\n",
        "## Estructura if\n",
        "Ejecuta un bloque de código si, y sólo si,se cumple una condición.\n",
        "\n",
        "## Sintaxis\n",
        "![image.png](data:image/png;base64,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)"
      ]
    },
    {
      "cell_type": "code",
      "metadata": {
        "colab": {
          "base_uri": "https://localhost:8080/"
        },
        "id": "vIN4K6LzqG09",
        "outputId": "af54f532-a42f-408d-def3-47c1d54ebad1"
      },
      "source": [
        "# Sintaxis\n",
        "\n",
        "persona1 = \"Juan\" \n",
        "edad1 = 30\n",
        "\n",
        "persona2 = \"Raúl\"\n",
        "edad2 = 50\n",
        "\n",
        "# ¿Quíen es mayor?\n",
        "\n",
        "if edad1 < edad2: # comparación\n",
        "  print(f\"{persona1} es menor a {persona2}\") # Bloque de instrucciones\n",
        "  print(\"Finalizado\") # Bloque de instrucciones\n",
        "\n",
        "# Si se cumple la comparación, se ejecuta el bloque de instrucciones\n"
      ],
      "execution_count": null,
      "outputs": [
        {
          "output_type": "stream",
          "text": [
            "Juan es menor a Raúl\n",
            "Finalizado\n"
          ],
          "name": "stdout"
        }
      ]
    },
    {
      "cell_type": "code",
      "metadata": {
        "id": "vCrxZM1yr1fG"
      },
      "source": [
        "# Sintaxis\n",
        "\n",
        "persona1 = \"Juan\" \n",
        "edad1 = 18\n",
        "\n",
        "persona2 = \"Raúl\"\n",
        "edad2 = 15\n",
        "\n",
        "# ¿Quíen es mayor?\n",
        "\n",
        "if edad1 < edad2: # condición\n",
        "  print(f\"{persona1} es menor a {persona2}\") # Bloque de instrucciones\n",
        "  print(\"Finalizado\") # Bloque de instrucciones\n",
        "\n",
        "# Si no se cumple la condición, se salta el bloque\n",
        "# Aquí no genera ninguna salida"
      ],
      "execution_count": null,
      "outputs": []
    },
    {
      "cell_type": "code",
      "metadata": {
        "colab": {
          "base_uri": "https://localhost:8080/"
        },
        "id": "m4JDBZGBsICv",
        "outputId": "851efc5a-e0f4-4e9c-aea4-c73a106eeceb"
      },
      "source": [
        "# Sintaxis\n",
        "# If - else\n",
        "\n",
        "persona1 = \"Juan\" \n",
        "edad1 = 70\n",
        "\n",
        "persona2 = \"Raúl\"\n",
        "edad2 = 50\n",
        "\n",
        "# ¿Quíen es mayor?\n",
        "\n",
        "if edad1 < edad2: # condición si\n",
        "  print(f\"{persona1} es menor a {persona2}\") # Bloque de instrucciones 1\n",
        "  print(\"Finalizado\") # Bloque de instrucciones 1\n",
        "else: # Si no\n",
        "  print(f\"{persona1} es mayor a {persona2}\") # Bloque de instrucciones 2\n",
        "\n",
        "# Si se cumple la condición, se ejecuta el bloque de instrucciones 1\n",
        "# Si no se cumple la condición, se ejecuta el bloque de instrucciones 2"
      ],
      "execution_count": null,
      "outputs": [
        {
          "output_type": "stream",
          "text": [
            "Juan es mayor a Raúl\n"
          ],
          "name": "stdout"
        }
      ]
    },
    {
      "cell_type": "code",
      "metadata": {
        "colab": {
          "base_uri": "https://localhost:8080/"
        },
        "id": "mk-aY1RAs8V0",
        "outputId": "beb277a3-e9dd-418b-f35f-12722af3ff4d"
      },
      "source": [
        "# Sintaxis\n",
        "# If - elif - else\n",
        "\n",
        "persona1 = \"Juan\" \n",
        "edad1 = 50\n",
        "\n",
        "persona2 = \"Raúl\"\n",
        "edad2 = 50\n",
        "\n",
        "# ¿Quíen es mayor?\n",
        "\n",
        "if edad1 < edad2: # condición 1\n",
        "  print(f\"{persona1} es menor a {persona2}\") # Bloque de instrucciones 1\n",
        "  print(\"Finalizado\") # Bloque de instrucciones 1\n",
        "elif edad1==edad2: # condición 2\n",
        "  print(f\"{persona1} tiene la misma edad que {persona2}\") # Bloque de instrucciones 2\n",
        "else:\n",
        "  print(f\"{persona1} es mayor a {persona2}\") # Bloque de instrucciones 3\n",
        "\n",
        "\n",
        "# Si se cumple la condición 1, se ejecuta el bloque de instrucciones 1\n",
        "# Si se cumple la condición 2, se ejecuta el bloque de instrucciones 2\n",
        "# Si no se cumple ninguna condición, se ejecuta el bloque de instrucciones 3"
      ],
      "execution_count": null,
      "outputs": [
        {
          "output_type": "stream",
          "text": [
            "Juan tiene la misma edad que Raúl\n"
          ],
          "name": "stdout"
        }
      ]
    }
  ]
}