{
  "nbformat": 4,
  "nbformat_minor": 0,
  "metadata": {
    "colab": {
      "name": "Variables de Texto.ipynb",
      "provenance": [],
      "authorship_tag": "ABX9TyMHFM+H3tBSk+HFNui8zKrV",
      "include_colab_link": true
    },
    "kernelspec": {
      "name": "python3",
      "display_name": "Python 3"
    },
    "language_info": {
      "name": "python"
    }
  },
  "cells": [
    {
      "cell_type": "markdown",
      "metadata": {
        "id": "view-in-github",
        "colab_type": "text"
      },
      "source": [
        "<a href=\"https://colab.research.google.com/github/JManuelRG/cursopython/blob/main/1%20Uso%20del%20lenguaje/1.1%20Variables%20de%20tipo%20texto.ipynb\" target=\"_parent\"><img src=\"https://colab.research.google.com/assets/colab-badge.svg\" alt=\"Open In Colab\"/></a>"
      ]
    },
    {
      "cell_type": "markdown",
      "metadata": {
        "id": "oPAIObkvKuVL"
      },
      "source": [
        "# Variables: Cadenas de Caracteres (strings)\n",
        "Son variables asignadas como texto\n",
        "\n",
        "Se definen con un texto entre comillas dobles: \"\"\n",
        "o entre comillas simples ''"
      ]
    },
    {
      "cell_type": "code",
      "metadata": {
        "colab": {
          "base_uri": "https://localhost:8080/"
        },
        "id": "aa1UGbd2LCmT",
        "outputId": "39e1de61-aeee-4c51-b308-3e770156bcdf"
      },
      "source": [
        "cadena = 'Python'\n",
        "print(cadena)\n",
        "type(cadena)"
      ],
      "execution_count": null,
      "outputs": [
        {
          "output_type": "stream",
          "text": [
            "Python\n"
          ],
          "name": "stdout"
        },
        {
          "output_type": "execute_result",
          "data": {
            "text/plain": [
              "str"
            ]
          },
          "metadata": {
            "tags": []
          },
          "execution_count": 1
        }
      ]
    },
    {
      "cell_type": "code",
      "metadata": {
        "colab": {
          "base_uri": "https://localhost:8080/"
        },
        "id": "_IFGso3yLbbK",
        "outputId": "f5597965-ee08-4a58-8ba0-3deb91f567c0"
      },
      "source": [
        "# Operaciones con cadenas de caracteres\n",
        "# Las cadenas de caracteres, se toman como un vector (un arreglo de datos)\n",
        "# Indexable: Maneja índices\n",
        "\n",
        "# longitud de la cadena:\n",
        "len(cadena)\n",
        "\n",
        "# Filtrar por letra de la cadena, haciendo uso de índices, comenzando desde 0\n",
        "print(cadena[0])\n",
        "print(cadena[1])\n",
        "print(cadena[2])\n",
        "print(cadena[3])\n",
        "print(cadena[4])\n",
        "print(cadena[5])"
      ],
      "execution_count": null,
      "outputs": [
        {
          "output_type": "stream",
          "text": [
            "P\n",
            "y\n",
            "t\n",
            "h\n",
            "o\n",
            "n\n"
          ],
          "name": "stdout"
        }
      ]
    },
    {
      "cell_type": "code",
      "metadata": {
        "colab": {
          "base_uri": "https://localhost:8080/"
        },
        "id": "K6g9mWQbNCt7",
        "outputId": "aba8a7fe-d5cc-428c-c8be-fbebb06fbf66"
      },
      "source": [
        "# Los índices se pueden contar de atrás hacia adelante\n",
        "print(cadena[-1])\n",
        "print(cadena[-2])\n",
        "print(cadena[-3])\n",
        "print(cadena[-4])\n",
        "print(cadena[-5])\n",
        "print(cadena[-6])\n"
      ],
      "execution_count": null,
      "outputs": [
        {
          "output_type": "stream",
          "text": [
            "n\n",
            "o\n",
            "h\n",
            "t\n",
            "y\n",
            "P\n"
          ],
          "name": "stdout"
        }
      ]
    },
    {
      "cell_type": "markdown",
      "metadata": {
        "id": "gzQX8WoTNZGd"
      },
      "source": [
        "# Operaciones con Cadenas de Caracteres\n",
        "\n",
        "La más utilizada es la concatenación,\n",
        "se realiza con el operador $+$"
      ]
    },
    {
      "cell_type": "code",
      "metadata": {
        "colab": {
          "base_uri": "https://localhost:8080/"
        },
        "id": "ln-D6hzLNgpn",
        "outputId": "98976243-95e4-4185-8698-09c04e5a947b"
      },
      "source": [
        "# Ejemplo de concatenación\n",
        "var_1 = \"ejemplo\"\n",
        "var_2 = \"concatenación\"\n",
        "\n",
        "var_3 = var_1+var_2\n",
        "print(var_3)"
      ],
      "execution_count": null,
      "outputs": [
        {
          "output_type": "stream",
          "text": [
            "ejemploconcatenación\n"
          ],
          "name": "stdout"
        }
      ]
    },
    {
      "cell_type": "code",
      "metadata": {
        "colab": {
          "base_uri": "https://localhost:8080/"
        },
        "id": "Jvn9HU4EPYvV",
        "outputId": "b17ca5b6-2436-42ea-9b6b-4b66412acf6d"
      },
      "source": [
        "# Ejemplo cadenas de ADN\n",
        "genA = 'ATCGTGGTG'\n",
        "genB = 'ATGTGTCT'\n",
        "\n",
        "genC = genA+genB+genA\n",
        "print(genC)"
      ],
      "execution_count": null,
      "outputs": [
        {
          "output_type": "stream",
          "text": [
            "ATCGTGGTGATGTGTCTATCGTGGTG\n"
          ],
          "name": "stdout"
        }
      ]
    }
  ]
}