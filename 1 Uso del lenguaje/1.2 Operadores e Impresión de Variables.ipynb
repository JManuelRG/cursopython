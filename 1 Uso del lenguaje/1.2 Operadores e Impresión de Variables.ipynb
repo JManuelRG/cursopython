{
  "nbformat": 4,
  "nbformat_minor": 0,
  "metadata": {
    "colab": {
      "name": "Operadores con Variables.ipynb",
      "provenance": [],
      "authorship_tag": "ABX9TyNFVkm0ZqFMxT910inBBYAl",
      "include_colab_link": true
    },
    "kernelspec": {
      "name": "python3",
      "display_name": "Python 3"
    },
    "language_info": {
      "name": "python"
    }
  },
  "cells": [
    {
      "cell_type": "markdown",
      "metadata": {
        "id": "view-in-github",
        "colab_type": "text"
      },
      "source": [
        "<a href=\"https://colab.research.google.com/github/JManuelRG/cursopython/blob/main/1%20Uso%20del%20lenguaje/1.2%20Operadores%20e%20Impresi%C3%B3n%20de%20Variables.ipynb\" target=\"_parent\"><img src=\"https://colab.research.google.com/assets/colab-badge.svg\" alt=\"Open In Colab\"/></a>"
      ]
    },
    {
      "cell_type": "markdown",
      "metadata": {
        "id": "GiKNTHOJQPd3"
      },
      "source": [
        "# Operadores\n",
        "\n",
        "Son caracteres especiales para realizar operaciones entre variables:\n",
        "\n",
        "Suma $+$\n",
        "\n",
        "Resta $-$\n",
        "\n",
        "Multiplicación $*$  o  $()$\n",
        "\n",
        "División $/$\n",
        "\n",
        "Potenciación: $**$\n",
        "\n",
        "División Entera $//$\n",
        "\n",
        "Residuo de la División Entera $//$"
      ]
    },
    {
      "cell_type": "markdown",
      "metadata": {
        "id": "X2MscuC0ROC1"
      },
      "source": [
        "# Impresión Avanzada de Datos\n",
        "## Datos con Formato\n",
        "\n",
        "la sintaxis es:\n",
        "**print(f\"Texto que queremos que aparezca {variable}, otro texto {variable 2}\")**\n",
        "\n",
        "f indica que se va a imprimir texto con formato\n",
        "\"\" indica que corresponde a texto"
      ]
    },
    {
      "cell_type": "code",
      "metadata": {
        "colab": {
          "base_uri": "https://localhost:8080/"
        },
        "id": "NhG1LBThQtVq",
        "outputId": "90c5e70c-e13f-40e1-e0dc-94c8d294cd72"
      },
      "source": [
        "## Suma de dos números\n",
        "\n",
        "n1 = 10\n",
        "n2 = 20\n",
        "\n",
        "n3 = n1 + n2\n",
        "\n",
        "# Impresión avanzada de datos\n",
        "print(f\"La suma de los números {n1} + {n2} es: {n3}\")"
      ],
      "execution_count": null,
      "outputs": [
        {
          "output_type": "stream",
          "text": [
            "La suma de los números 10 + 20 es: 30\n"
          ],
          "name": "stdout"
        }
      ]
    },
    {
      "cell_type": "code",
      "metadata": {
        "colab": {
          "base_uri": "https://localhost:8080/"
        },
        "id": "PQ0ZqKaTSPFB",
        "outputId": "283511cd-14b9-43ca-f4ec-194dbac0e672"
      },
      "source": [
        "## Resta de dos números\n",
        "\n",
        "r1 = 3443.5\n",
        "r2 = 2034.54\n",
        "\n",
        "r3 = r1 - r2\n",
        "\n",
        "# Impresión avanzada de datos\n",
        "print(f\"La suma de los números {r1} - {r2} es: {r3}\")"
      ],
      "execution_count": null,
      "outputs": [
        {
          "output_type": "stream",
          "text": [
            "La suma de los números 3443.5 - 2034.54 es: 1408.96\n"
          ],
          "name": "stdout"
        }
      ]
    },
    {
      "cell_type": "code",
      "metadata": {
        "colab": {
          "base_uri": "https://localhost:8080/"
        },
        "id": "FuoilVoCSmSN",
        "outputId": "d5ce4b4e-bfc8-416f-f164-b9afb8ed77fb"
      },
      "source": [
        "## Multiplicación de tres números\n",
        "\n",
        "m1 = 43\n",
        "m2 = 23\n",
        "m3 = 32\n",
        "\n",
        "m4 = m1*m2*m3\n",
        "\n",
        "# Impresión avanzada de datos\n",
        "print(f\"La multiplicación de los números {m1} * {m2} * {m3} es: {m4}\")"
      ],
      "execution_count": null,
      "outputs": [
        {
          "output_type": "stream",
          "text": [
            "La multiplicación de los números 43 * 23 * 32 es: 31648\n"
          ],
          "name": "stdout"
        }
      ]
    },
    {
      "cell_type": "code",
      "metadata": {
        "colab": {
          "base_uri": "https://localhost:8080/"
        },
        "id": "ZDXcwqmxS-7F",
        "outputId": "017aaf25-0fcb-43aa-effe-1e8b8d59f1b8"
      },
      "source": [
        "## División entre dos números\n",
        "d1 = 43\n",
        "d2= 434\n",
        "\n",
        "d3 = d1/d2\n",
        "\n",
        "# Impresión avanzada de datos\n",
        "print(f\"La división de los números {d1} / {d2}  es: {d3}\")"
      ],
      "execution_count": null,
      "outputs": [
        {
          "output_type": "stream",
          "text": [
            "La división de los números 43 / 434  es: 0.09907834101382489\n"
          ],
          "name": "stdout"
        }
      ]
    },
    {
      "cell_type": "code",
      "metadata": {
        "colab": {
          "base_uri": "https://localhost:8080/"
        },
        "id": "8RoCba9BTVbb",
        "outputId": "fd3c43f6-e86b-419e-8524-11090a41ca43"
      },
      "source": [
        "## Exponenciación entre dos números\n",
        "e1 = 323\n",
        "e2= 2.3\n",
        "\n",
        "e3 = e1**e2\n",
        "\n",
        "# Impresión avanzada de datos\n",
        "print(f\"El número {e1} elevado al número {e2}  es: {e3}\")"
      ],
      "execution_count": null,
      "outputs": [
        {
          "output_type": "stream",
          "text": [
            "El número 323 elevado al número 2.3  es: 590426.4452834987\n"
          ],
          "name": "stdout"
        }
      ]
    },
    {
      "cell_type": "markdown",
      "metadata": {
        "id": "1PNb3_kaT5xm"
      },
      "source": [
        "# Funciones matemáticas\n",
        "\n",
        "Las funciones de una calculadora científica, están incluidas en las librerías: \n",
        "**math** (Números Reales)\n",
        "\n",
        "**cmath** (Números Complejos)\n",
        "Una librería es un paquete de funciones (métodos) para realizar cualquier secuencia de instrucciones\n",
        "\n",
        "## Cómo importar una librería a python\n",
        "\n",
        "La sintaxis es: \n",
        "**import nombre_librería**\n",
        "\n",
        "\n"
      ]
    },
    {
      "cell_type": "code",
      "metadata": {
        "id": "UNcSLf2uUai7"
      },
      "source": [
        "# Importar la librería matemática:\n",
        "import math\n",
        "\n",
        "# importa todas las funciones (métodos) y constantes de la librería math."
      ],
      "execution_count": null,
      "outputs": []
    },
    {
      "cell_type": "markdown",
      "metadata": {
        "id": "-fFiLGfLU5_U"
      },
      "source": [
        "# Librería Math\n",
        "\n",
        "Documentación oficial: https://docs.python.org/3/library/math.html\n",
        "\n",
        "## Operadores de interés en esta librería:\n",
        "\n",
        "Funciones Trigonométricas:\n",
        "$sin(x), cos (x), tan(x)$ ...\n",
        "\n",
        "\n",
        "Llamar funciones:\n",
        "**math.método(argumentos)**\n",
        "\n",
        "## Constantes de interés en la librería\n",
        "$pi, e, \\tau, \\infty$\n",
        "\n",
        "Llamar $ \\pi  $\n",
        "\n",
        "**math.pi**\n",
        "\n"
      ]
    },
    {
      "cell_type": "code",
      "metadata": {
        "colab": {
          "base_uri": "https://localhost:8080/"
        },
        "id": "IFfiy-agUyP7",
        "outputId": "de5d59c4-2b0a-4f51-ea66-e3e95239e92e"
      },
      "source": [
        "# Llamar métodos de la librería\n",
        "# Función seno\n",
        "\n",
        "math.sin(1.57)\n",
        "\n",
        "# Función coseno\n",
        "math.cos(2)\n"
      ],
      "execution_count": null,
      "outputs": [
        {
          "output_type": "execute_result",
          "data": {
            "text/plain": [
              "-0.4161468365471424"
            ]
          },
          "metadata": {
            "tags": []
          },
          "execution_count": 18
        }
      ]
    },
    {
      "cell_type": "code",
      "metadata": {
        "colab": {
          "base_uri": "https://localhost:8080/"
        },
        "id": "diAsCnIFW9Ow",
        "outputId": "2f42188a-04be-4616-b783-c193b184ea67"
      },
      "source": [
        "# Llamar constantes de la librería math\n",
        "\n",
        "print(f\"El valor de pi es: {math.pi}\")\n",
        "print(f\"El valor del número de Euler es: {math.e}\")\n",
        "print(f\"El valor de tau es: {math.tau}\")\n"
      ],
      "execution_count": null,
      "outputs": [
        {
          "output_type": "stream",
          "text": [
            "El valor de pi es: 3.141592653589793\n",
            "El valor del número de Euler es: 2.718281828459045\n",
            "El valor de pi es: 6.283185307179586\n"
          ],
          "name": "stdout"
        }
      ]
    },
    {
      "cell_type": "markdown",
      "metadata": {
        "id": "vPsrICKkYwXs"
      },
      "source": [
        "# Librería cmath\n",
        "\n",
        "# Números complejos\n",
        "\n",
        "Documentación: [Página Cmath](https://docs.python.org/3/library/cmath.html#module-cmath)"
      ]
    },
    {
      "cell_type": "code",
      "metadata": {
        "id": "qBKr4-noY77v"
      },
      "source": [
        "# Importar librería cmath\n",
        "import cmath"
      ],
      "execution_count": null,
      "outputs": []
    },
    {
      "cell_type": "code",
      "metadata": {
        "colab": {
          "base_uri": "https://localhost:8080/"
        },
        "id": "VGyRlFzWZBUa",
        "outputId": "0f9bfc0e-3c6d-4b59-81d5-547480905e28"
      },
      "source": [
        "# Operaciones con números complejos:\n",
        "num_c = complex(2,3)\n",
        "print(num_c)\n",
        "\n",
        "# Seno de un número complejo:\n",
        "cmath.sin(num_c)"
      ],
      "execution_count": null,
      "outputs": [
        {
          "output_type": "stream",
          "text": [
            "(2+3j)\n"
          ],
          "name": "stdout"
        },
        {
          "output_type": "execute_result",
          "data": {
            "text/plain": [
              "(9.15449914691143-4.168906959966565j)"
            ]
          },
          "metadata": {
            "tags": []
          },
          "execution_count": 28
        }
      ]
    }
  ]
}