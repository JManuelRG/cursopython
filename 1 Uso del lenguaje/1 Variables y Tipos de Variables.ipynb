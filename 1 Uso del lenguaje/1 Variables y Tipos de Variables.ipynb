{
 "cells": [
  {
   "cell_type": "code",
   "execution_count": 4,
   "metadata": {},
   "outputs": [
    {
     "name": "stdout",
     "output_type": "stream",
     "text": [
      "10\n",
      "<class 'int'>\n"
     ]
    }
   ],
   "source": [
    "#Definir variables enteras\n",
    "entero = 10\n",
    "entero1 = 20\n",
    "\n",
    "#Imprimir variables\n",
    "print(entero)\n",
    "\n",
    "#Imprimir tipo de variable\n",
    "print(type(entero))"
   ]
  },
  {
   "cell_type": "code",
   "execution_count": 6,
   "metadata": {},
   "outputs": [
    {
     "name": "stdout",
     "output_type": "stream",
     "text": [
      "10.33435\n",
      "20.3\n",
      "<class 'float'>\n"
     ]
    }
   ],
   "source": [
    "# Definir Variables Reales\n",
    "numero1 = 10.33435\n",
    "numero2 = 20.3 \n",
    "\n",
    "#Imprimir variables\n",
    "print(numero1)\n",
    "print(numero2)\n",
    "\n",
    "#Imprimir tipos de variables\n",
    "print(type(numero1))"
   ]
  },
  {
   "cell_type": "code",
   "execution_count": 7,
   "metadata": {},
   "outputs": [
    {
     "name": "stdout",
     "output_type": "stream",
     "text": [
      "Hola\n",
      "Texto\n",
      "<class 'str'>\n"
     ]
    }
   ],
   "source": [
    "# Cadenas de Caracteres\n",
    "\n",
    "texto  = \"Hola\"\n",
    "tipo2 =type(texto)\n",
    "texto2 = 'Texto'\n",
    "\n",
    "print(texto)\n",
    "print(texto2)\n",
    "print(tipo2)"
   ]
  },
  {
   "cell_type": "code",
   "execution_count": 8,
   "metadata": {},
   "outputs": [
    {
     "name": "stdout",
     "output_type": "stream",
     "text": [
      "La variable 10 es una variable del tipo <class 'int'>\n",
      "La variable Hola es una variable del tipo <class 'str'>\n"
     ]
    }
   ],
   "source": [
    "\"\"\"\n",
    "Cómo imprimir valores en pantalla\n",
    "utilizando el comando print\n",
    "\"\"\"\n",
    "\n",
    "\n",
    "print(f\"La variable {entero} es una variable del tipo {tipo}\")\n",
    "\n",
    "print(f\"La variable {texto} es una variable del tipo {tipo2}\")"
   ]
  }
 ],
 "metadata": {
  "kernelspec": {
   "display_name": "Python 3",
   "language": "python",
   "name": "python3"
  },
  "language_info": {
   "codemirror_mode": {
    "name": "ipython",
    "version": 3
   },
   "file_extension": ".py",
   "mimetype": "text/x-python",
   "name": "python",
   "nbconvert_exporter": "python",
   "pygments_lexer": "ipython3",
   "version": "3.8.3"
  }
 },
 "nbformat": 4,
 "nbformat_minor": 4
}
