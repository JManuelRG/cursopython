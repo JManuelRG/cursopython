{
  "nbformat": 4,
  "nbformat_minor": 0,
  "metadata": {
    "colab": {
      "name": "Vectores y Matrices.ipynb",
      "provenance": [],
      "authorship_tag": "ABX9TyOVf7+fijizPznDC7kEZS9/",
      "include_colab_link": true
    },
    "kernelspec": {
      "name": "python3",
      "display_name": "Python 3"
    },
    "language_info": {
      "name": "python"
    }
  },
  "cells": [
    {
      "cell_type": "markdown",
      "metadata": {
        "id": "view-in-github",
        "colab_type": "text"
      },
      "source": [
        "<a href=\"https://github.com/JManuelRG/cursopython/blob/main/1%20Uso%20del%20lenguaje/8.%20Vectores%20y%20Matrices.ipynb\" target=\"_parent\"><img src=\"https://colab.research.google.com/assets/colab-badge.svg\" alt=\"Open In Colab\"/></a>"
      ]
    },
    {
      "cell_type": "markdown",
      "metadata": {
        "id": "bMTLnxcMw_ew"
      },
      "source": [
        "# Vectores y Matrices\n",
        "\n",
        "## Son arreglos numéricos de datos.\n",
        "\n",
        "### Tipos de Variables en Álgebra\n",
        "Escalar: Un número único, un elemento con solo magnitud. Ej: $$1,2,3,4,3.44, \\pi$$\n",
        "\n",
        "Vectores: Son arreglos unidimensionales de números. Tienen magnitud, dirección y sentido. Ej:\n",
        "\n",
        "$$[1,2,3,4,5,6,7,8,9,10]$$\n",
        "\n",
        "Matrices: Son arreglos bidimensionales de números.\n",
        "\n",
        "\\begin{equation}\n",
        "\\begin{matrix}\n",
        "1 & 2\\\\\n",
        "3 & 4\n",
        "\\end{matrix}\n",
        "\\end{equation}\n"
      ]
    },
    {
      "cell_type": "markdown",
      "metadata": {
        "id": "8B37xzGn685v"
      },
      "source": [
        "# Vectores"
      ]
    },
    {
      "cell_type": "code",
      "metadata": {
        "colab": {
          "base_uri": "https://localhost:8080/"
        },
        "id": "G6Kk9Mx-ybH0",
        "outputId": "379a792f-d63c-44d0-c931-e8f58e523c47"
      },
      "source": [
        "# Vectores\n",
        "# Un vector es una lista con solo números\n",
        "vector = [10,20,30,40,50,60]\n",
        "print(vector)\n",
        "\n",
        "# Son indexables\n",
        "for i in range(0,5):\n",
        "  print(vector[i])\n"
      ],
      "execution_count": null,
      "outputs": [
        {
          "output_type": "stream",
          "text": [
            "[10, 20, 30, 40, 50, 60]\n",
            "10\n",
            "20\n",
            "30\n",
            "40\n",
            "50\n"
          ],
          "name": "stdout"
        }
      ]
    },
    {
      "cell_type": "code",
      "metadata": {
        "colab": {
          "base_uri": "https://localhost:8080/"
        },
        "id": "AnfCdzsyzQDH",
        "outputId": "28a1652c-6e20-402d-e698-5ed46de1151e"
      },
      "source": [
        "# Operaciones con vectores\n",
        "# Sumar, Restar entre vectores\n",
        "print(len(vector)) # longitud, número de elementos\n",
        "\n",
        "vector2 = [1,2,3,4,5,6]\n",
        "print(vector2)"
      ],
      "execution_count": null,
      "outputs": [
        {
          "output_type": "stream",
          "text": [
            "6\n",
            "[1, 2, 3, 4, 5, 6]\n"
          ],
          "name": "stdout"
        }
      ]
    },
    {
      "cell_type": "code",
      "metadata": {
        "colab": {
          "base_uri": "https://localhost:8080/"
        },
        "id": "4Y1a3l2lz6FD",
        "outputId": "e466bbe7-dc7b-4b65-ae53-5d198d61663f"
      },
      "source": [
        "# Operaciones \n",
        "# suma\n",
        "print(f\"La suma del vector {vector} + {vector2} es {vector+vector2}\") # Pero es concatenación"
      ],
      "execution_count": null,
      "outputs": [
        {
          "output_type": "stream",
          "text": [
            "La suma del vector [10, 20, 30, 40, 50, 60] + [1, 2, 3, 4, 5, 6] es [10, 20, 30, 40, 50, 60, 1, 2, 3, 4, 5, 6]\n"
          ],
          "name": "stdout"
        }
      ]
    },
    {
      "cell_type": "code",
      "metadata": {
        "colab": {
          "base_uri": "https://localhost:8080/"
        },
        "id": "D9a4bTtI0TXW",
        "outputId": "5d5d2d31-cbef-49c5-9649-ee61b8fe6f1e"
      },
      "source": [
        "vector+vector2 "
      ],
      "execution_count": null,
      "outputs": [
        {
          "output_type": "execute_result",
          "data": {
            "text/plain": [
              "[10, 20, 30, 40, 50, 60, 1, 2, 3, 4, 5, 6]"
            ]
          },
          "metadata": {
            "tags": []
          },
          "execution_count": 14
        }
      ]
    },
    {
      "cell_type": "code",
      "metadata": {
        "colab": {
          "base_uri": "https://localhost:8080/"
        },
        "id": "4wueDKAA0dS0",
        "outputId": "f49983aa-8e3c-4cdb-c602-0f85f502bd2d"
      },
      "source": [
        "# Si quiero la suma matemática, debe de hacerse término a término\n",
        "print(vector)\n",
        "print(vector2)\n",
        "\n",
        "suma = []\n",
        "\n",
        "for i in range(0,len(vector)-1):\n",
        "  suma.append(vector[i]+vector2[i])\n",
        "\n",
        "print(suma)"
      ],
      "execution_count": null,
      "outputs": [
        {
          "output_type": "stream",
          "text": [
            "[10, 20, 30, 40, 50, 60]\n",
            "[1, 2, 3, 4, 5, 6]\n",
            "[11, 22, 33, 44, 55]\n"
          ],
          "name": "stdout"
        }
      ]
    },
    {
      "cell_type": "code",
      "metadata": {
        "colab": {
          "base_uri": "https://localhost:8080/"
        },
        "id": "lse8nosM2Hvw",
        "outputId": "6dfbd005-4f40-4406-c362-a8c01c05f123"
      },
      "source": [
        "# Si quiero la resta matemática, debe de hacerse término a término\n",
        "print(vector)\n",
        "print(vector2)\n",
        "\n",
        "resta = []\n",
        "\n",
        "for i in range(0,len(vector)-1):\n",
        "  resta.append(vector[i]-vector2[i])\n",
        "\n",
        "print(resta)"
      ],
      "execution_count": null,
      "outputs": [
        {
          "output_type": "stream",
          "text": [
            "[10, 20, 30, 40, 50, 60]\n",
            "[1, 2, 3, 4, 5, 6]\n",
            "[9, 18, 27, 36, 45]\n"
          ],
          "name": "stdout"
        }
      ]
    },
    {
      "cell_type": "code",
      "metadata": {
        "id": "hhNRAAwZ2XGC"
      },
      "source": [
        "# Para simplificar estos cálculos, existe la librería Numpy\n",
        "# https://numpy.org/\n",
        "\n",
        "# Se puede importar con el comando:\n",
        "import numpy as np  \n",
        "# importamos con el pseudonombre np\n"
      ],
      "execution_count": null,
      "outputs": []
    },
    {
      "cell_type": "code",
      "metadata": {
        "colab": {
          "base_uri": "https://localhost:8080/"
        },
        "id": "3kI3oEte38gm",
        "outputId": "0c17f5af-9663-4f87-8f46-da81193b031c"
      },
      "source": [
        "# Declarar un vector (o array) en numpy:\n",
        "arreglo = np.array([3,4,2,3,4,4,5,6])\n",
        "print(arreglo)"
      ],
      "execution_count": null,
      "outputs": [
        {
          "output_type": "stream",
          "text": [
            "[3 4 2 3 4 4 5 6]\n"
          ],
          "name": "stdout"
        }
      ]
    },
    {
      "cell_type": "code",
      "metadata": {
        "colab": {
          "base_uri": "https://localhost:8080/"
        },
        "id": "aJZui9-J4Jw1",
        "outputId": "15a09b97-244b-4272-ecf3-29b401046b2a"
      },
      "source": [
        "# Son de diferente tipo\n",
        "type(vector)\n",
        "type(arreglo)"
      ],
      "execution_count": null,
      "outputs": [
        {
          "output_type": "execute_result",
          "data": {
            "text/plain": [
              "numpy.ndarray"
            ]
          },
          "metadata": {
            "tags": []
          },
          "execution_count": 29
        }
      ]
    },
    {
      "cell_type": "code",
      "metadata": {
        "colab": {
          "base_uri": "https://localhost:8080/"
        },
        "id": "y0r0MUbz4V_V",
        "outputId": "002a0c37-d7ee-4e00-e6c2-5ee79dc9c09f"
      },
      "source": [
        "arreglo2=np.array([4,2,1,2,4,6,7,9])\n",
        "print(arreglo2)"
      ],
      "execution_count": null,
      "outputs": [
        {
          "output_type": "stream",
          "text": [
            "[4 2 1 2 4 6 7 9]\n"
          ],
          "name": "stdout"
        }
      ]
    },
    {
      "cell_type": "code",
      "metadata": {
        "colab": {
          "base_uri": "https://localhost:8080/"
        },
        "id": "ysKObzaT4b1f",
        "outputId": "2b14f6f3-ab0e-4431-85dd-2602c03d2c3a"
      },
      "source": [
        "# Los arreglos se puede realizar cualquier operaci+on directamente\n",
        "print(f\"Arreglo: {arreglo}\")\n",
        "print(f\"Arreglo 2: {arreglo}\")\n",
        "print(f\"SUMA: {arreglo} + {arreglo2} = {arreglo+arreglo2}\")\n",
        "print(f\"RESTA: {arreglo} - {arreglo2} = {arreglo-arreglo2}\")"
      ],
      "execution_count": null,
      "outputs": [
        {
          "output_type": "stream",
          "text": [
            "Arreglo: [3 4 2 3 4 4 5 6]\n",
            "Arreglo 2: [3 4 2 3 4 4 5 6]\n",
            "SUMA: [3 4 2 3 4 4 5 6] + [4 2 1 2 4 6 7 9] = [ 7  6  3  5  8 10 12 15]\n",
            "RESTA: [3 4 2 3 4 4 5 6] - [4 2 1 2 4 6 7 9] = [-1  2  1  1  0 -2 -2 -3]\n"
          ],
          "name": "stdout"
        }
      ]
    },
    {
      "cell_type": "code",
      "metadata": {
        "colab": {
          "base_uri": "https://localhost:8080/"
        },
        "id": "8ya1Bv2X5irA",
        "outputId": "3d0beddd-20cd-49d1-c4a5-5146bee72a72"
      },
      "source": [
        "# Herramientas:\n",
        "\n",
        "# linspace: Permite definir un vector desde un valor inicial, hasta un valor final, con intervalos definidos\n",
        "# Vector desde 1 al 100, con incrementos de 1\n",
        "vector_cien = np.linspace(1,100,100) # vector que comienza en 1, finaliza en 100, con 100 elementos\n",
        "print(vector_cien)"
      ],
      "execution_count": null,
      "outputs": [
        {
          "output_type": "stream",
          "text": [
            "[  1.   2.   3.   4.   5.   6.   7.   8.   9.  10.  11.  12.  13.  14.\n",
            "  15.  16.  17.  18.  19.  20.  21.  22.  23.  24.  25.  26.  27.  28.\n",
            "  29.  30.  31.  32.  33.  34.  35.  36.  37.  38.  39.  40.  41.  42.\n",
            "  43.  44.  45.  46.  47.  48.  49.  50.  51.  52.  53.  54.  55.  56.\n",
            "  57.  58.  59.  60.  61.  62.  63.  64.  65.  66.  67.  68.  69.  70.\n",
            "  71.  72.  73.  74.  75.  76.  77.  78.  79.  80.  81.  82.  83.  84.\n",
            "  85.  86.  87.  88.  89.  90.  91.  92.  93.  94.  95.  96.  97.  98.\n",
            "  99. 100.]\n"
          ],
          "name": "stdout"
        }
      ]
    },
    {
      "cell_type": "markdown",
      "metadata": {
        "id": "tejT721I65Qm"
      },
      "source": [
        "# Matrices"
      ]
    },
    {
      "cell_type": "markdown",
      "metadata": {
        "id": "zWyx6p_M7IUs"
      },
      "source": [
        "# Es un arreglo bidimensional\n",
        "\n",
        "Por ejemplo, para crear la matriz:\n",
        "\n",
        "\\begin{equation}\n",
        "\\begin{matrix}\n",
        "1 & 2 & 3\\\\\n",
        "4 & 5 & 6\\\\\n",
        "7 & 8 & 9\n",
        "\\end{matrix}\n",
        "\\end{equation}"
      ]
    },
    {
      "cell_type": "code",
      "metadata": {
        "colab": {
          "base_uri": "https://localhost:8080/"
        },
        "id": "Bpc7M-yk7M0y",
        "outputId": "141f4d56-10e6-48f3-fc0e-70e85ded99bc"
      },
      "source": [
        "# Definir una matriz\n",
        "matriz = [[1,2,3],\n",
        "          [4,5,6],\n",
        "          [7,8,9]]\n",
        "print(matriz)"
      ],
      "execution_count": null,
      "outputs": [
        {
          "output_type": "stream",
          "text": [
            "[[1, 2, 3], [4, 5, 6], [7, 8, 9]]\n"
          ],
          "name": "stdout"
        }
      ]
    },
    {
      "cell_type": "code",
      "metadata": {
        "colab": {
          "base_uri": "https://localhost:8080/"
        },
        "id": "WEaGKstJ8F0v",
        "outputId": "f781ca9a-40c8-48c1-e863-d5dbf4a29c17"
      },
      "source": [
        "# Acceder a los elementos de una matriz:\n",
        "# Acceder a filas:\n",
        "print(f\"Fila 1: {matriz[0]}\")\n",
        "print(f\"Fila 2: {matriz[1]}\")\n",
        "print(f\"Fila 3: {matriz[2]}\")\n",
        "\n",
        "# Para acceder a columnas, de manera nativa no es posible, pero se puede implementar"
      ],
      "execution_count": null,
      "outputs": [
        {
          "output_type": "stream",
          "text": [
            "Fila 1: [1, 2, 3]\n",
            "Fila 2: [4, 5, 6]\n",
            "Fila 3: [7, 8, 9]\n"
          ],
          "name": "stdout"
        }
      ]
    },
    {
      "cell_type": "markdown",
      "metadata": {
        "id": "tcaR2KNE9Omj"
      },
      "source": [
        "\\begin{equation}\n",
        "\\begin{matrix}\n",
        "1 & 2 & 3\\\\\n",
        "4 & 5 & 6\\\\\n",
        "7 & 8 & 9\n",
        "\\end{matrix}\n",
        "\\end{equation}"
      ]
    },
    {
      "cell_type": "code",
      "metadata": {
        "colab": {
          "base_uri": "https://localhost:8080/"
        },
        "id": "iqu9LC8I8xex",
        "outputId": "a51186da-cd66-4c3d-9eea-248c88ab4dc2"
      },
      "source": [
        "# Acceder a los elementos de la matriz, utilizamos índices (fila, columna)\n",
        "# Sintaxis: Para acceder al elemento en la posición (fila, columna)\n",
        "# matriz[índice de fila][índice de columna]\n",
        "\n",
        "for fila in range(0,3):\n",
        "  for columna in range(0,3):\n",
        "    print(f\"El elemento en la fila {fila}, columna {columna} es: {matriz[fila][columna]}\")"
      ],
      "execution_count": null,
      "outputs": [
        {
          "output_type": "stream",
          "text": [
            "El elemento en la fila 0, columna 0 es: 1\n",
            "El elemento en la fila 0, columna 1 es: 2\n",
            "El elemento en la fila 0, columna 2 es: 3\n",
            "El elemento en la fila 1, columna 0 es: 4\n",
            "El elemento en la fila 1, columna 1 es: 5\n",
            "El elemento en la fila 1, columna 2 es: 6\n",
            "El elemento en la fila 2, columna 0 es: 7\n",
            "El elemento en la fila 2, columna 1 es: 8\n",
            "El elemento en la fila 2, columna 2 es: 9\n"
          ],
          "name": "stdout"
        }
      ]
    },
    {
      "cell_type": "code",
      "metadata": {
        "colab": {
          "base_uri": "https://localhost:8080/"
        },
        "id": "wf48N6MM-Z41",
        "outputId": "e89d346d-589e-4f1b-bb8e-a52c0d073084"
      },
      "source": [
        "# Definir matrices con la librería numpy\n",
        "matriz1 = np.array([[1,2,3],\n",
        "                    [4,5,6],\n",
        "                    [7,8,9]])\n",
        "print(matriz1)"
      ],
      "execution_count": null,
      "outputs": [
        {
          "output_type": "stream",
          "text": [
            "[[1 2 3]\n",
            " [4 5 6]\n",
            " [7 8 9]]\n"
          ],
          "name": "stdout"
        }
      ]
    },
    {
      "cell_type": "code",
      "metadata": {
        "colab": {
          "base_uri": "https://localhost:8080/"
        },
        "id": "k2QaJq-3_CtR",
        "outputId": "e8a731c3-7c49-41f1-e193-baa007f4b5b0"
      },
      "source": [
        "matriz2 = np.array([[2,2,2],\n",
        "                    [2,2,2],\n",
        "                    [2,2,2]])\n",
        "print(matriz2)"
      ],
      "execution_count": null,
      "outputs": [
        {
          "output_type": "stream",
          "text": [
            "[[2 2 2]\n",
            " [2 2 2]\n",
            " [2 2 2]]\n"
          ],
          "name": "stdout"
        }
      ]
    },
    {
      "cell_type": "code",
      "metadata": {
        "colab": {
          "base_uri": "https://localhost:8080/"
        },
        "id": "kYyeljoC_Tk7",
        "outputId": "0eb203e7-9474-40ca-f97b-c32fa6b22c8e"
      },
      "source": [
        "# Las matrices siguen siendo arreglos, la diferencia son sus dimensiones\n",
        "print(f\"El vector {arreglo} es del tipo {type(arreglo)} y es de dimensión {np.ndim(arreglo)}\")\n",
        "print(f\"La matriz \\n {matriz1} \\n es del tipo {type(matriz1)} y es de dimensión {np.ndim(matriz1)}\")"
      ],
      "execution_count": null,
      "outputs": [
        {
          "output_type": "stream",
          "text": [
            "El vector [3 4 2 3 4 4 5 6] es del tipo <class 'numpy.ndarray'> y es de dimensión 1\n",
            "La matriz \n",
            " [[1 2 3]\n",
            " [4 5 6]\n",
            " [7 8 9]] \n",
            " es del tipo <class 'numpy.ndarray'> y es de dimensión 2\n"
          ],
          "name": "stdout"
        }
      ]
    },
    {
      "cell_type": "code",
      "metadata": {
        "colab": {
          "base_uri": "https://localhost:8080/"
        },
        "id": "lIJP_9OI_yQu",
        "outputId": "73d731d3-26ab-455c-f16d-1f8a8b413ab4"
      },
      "source": [
        "# Operaciones: Suma\n",
        "print(matriz1)\n",
        "print(matriz2)\n",
        "print(matriz1+matriz2)"
      ],
      "execution_count": null,
      "outputs": [
        {
          "output_type": "stream",
          "text": [
            "[[1 2 3]\n",
            " [4 5 6]\n",
            " [7 8 9]]\n",
            "[[2 2 2]\n",
            " [2 2 2]\n",
            " [2 2 2]]\n",
            "[[ 3  4  5]\n",
            " [ 6  7  8]\n",
            " [ 9 10 11]]\n"
          ],
          "name": "stdout"
        }
      ]
    },
    {
      "cell_type": "code",
      "metadata": {
        "colab": {
          "base_uri": "https://localhost:8080/"
        },
        "id": "cA_h5zRzBA_k",
        "outputId": "cd1da43a-27d4-4d9b-bf6e-987e04c71158"
      },
      "source": [
        "# Operaciones: Trigonométricas\n",
        "np.sin(matriz1)"
      ],
      "execution_count": null,
      "outputs": [
        {
          "output_type": "execute_result",
          "data": {
            "text/plain": [
              "array([[ 0.84147098,  0.90929743,  0.14112001],\n",
              "       [-0.7568025 , -0.95892427, -0.2794155 ],\n",
              "       [ 0.6569866 ,  0.98935825,  0.41211849]])"
            ]
          },
          "metadata": {
            "tags": []
          },
          "execution_count": 66
        }
      ]
    },
    {
      "cell_type": "code",
      "metadata": {
        "colab": {
          "base_uri": "https://localhost:8080/"
        },
        "id": "eZ5AEWw7BbKZ",
        "outputId": "22716ca5-851a-495b-f0ad-7548d8978aba"
      },
      "source": [
        "# Acceder a los elementos de una matriz (arreglo)\n",
        "print(matriz1)\n",
        "matriz[0][0]"
      ],
      "execution_count": null,
      "outputs": [
        {
          "output_type": "stream",
          "text": [
            "[[1 2 3]\n",
            " [4 5 6]\n",
            " [7 8 9]]\n"
          ],
          "name": "stdout"
        },
        {
          "output_type": "execute_result",
          "data": {
            "text/plain": [
              "1"
            ]
          },
          "metadata": {
            "tags": []
          },
          "execution_count": 69
        }
      ]
    },
    {
      "cell_type": "code",
      "metadata": {
        "colab": {
          "base_uri": "https://localhost:8080/"
        },
        "id": "HnXt7IOKCese",
        "outputId": "c96e88ee-c5bf-49ed-a3c1-252444abbdbf"
      },
      "source": [
        "# Métodos preestablecidos\n",
        "# Sintaxis: matriz.método\n",
        "print(matriz1.shape) # Devuelve las dimensiones de la matriz: fila, columna"
      ],
      "execution_count": null,
      "outputs": [
        {
          "output_type": "stream",
          "text": [
            "(3, 3)\n"
          ],
          "name": "stdout"
        },
        {
          "output_type": "execute_result",
          "data": {
            "text/plain": [
              "<function ndarray.max>"
            ]
          },
          "metadata": {
            "tags": []
          },
          "execution_count": 73
        }
      ]
    },
    {
      "cell_type": "code",
      "metadata": {
        "colab": {
          "base_uri": "https://localhost:8080/"
        },
        "id": "-B1crX4NDp3U",
        "outputId": "5a9c3450-00b5-4954-80a5-98c84c2d97c3"
      },
      "source": [
        "# Inversa de una matriz\n",
        "x = np.array([[1,2],[3,4]]) # Matriz original\n",
        "y = np.linalg.inv(x)  # Matriz inversa\n",
        "print(x) \n",
        "print(y) \n",
        "print(np.dot(x,y)) # Producto punto de las matrices "
      ],
      "execution_count": null,
      "outputs": [
        {
          "output_type": "stream",
          "text": [
            "[[1 2]\n",
            " [3 4]]\n",
            "[[-2.   1. ]\n",
            " [ 1.5 -0.5]]\n",
            "[[1.0000000e+00 0.0000000e+00]\n",
            " [8.8817842e-16 1.0000000e+00]]\n"
          ],
          "name": "stdout"
        }
      ]
    }
  ]
}
