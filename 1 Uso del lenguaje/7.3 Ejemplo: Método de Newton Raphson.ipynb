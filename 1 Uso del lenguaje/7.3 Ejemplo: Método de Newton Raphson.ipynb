{
  "nbformat": 4,
  "nbformat_minor": 0,
  "metadata": {
    "colab": {
      "name": "Método de Newton Raphson.ipynb",
      "provenance": [],
      "authorship_tag": "ABX9TyOIy2LhHKBnwWE1LqCsDR4P",
      "include_colab_link": true
    },
    "kernelspec": {
      "name": "python3",
      "display_name": "Python 3"
    },
    "language_info": {
      "name": "python"
    }
  },
  "cells": [
    {
      "cell_type": "markdown",
      "metadata": {
        "id": "view-in-github",
        "colab_type": "text"
      },
      "source": [
        "<a href=\"https://colab.research.google.com/github/JManuelRG/cursopython/blob/main/1%20Uso%20del%20lenguaje/7.3%20Ejemplo%3A%20M%C3%A9todo%20de%20Newton%20Raphson.ipynb\" target=\"_parent\"><img src=\"https://colab.research.google.com/assets/colab-badge.svg\" alt=\"Open In Colab\"/></a>"
      ]
    },
    {
      "cell_type": "markdown",
      "metadata": {
        "id": "ovxDbImTurpf"
      },
      "source": [
        "# Estructura de Repetición \"While\"\n",
        "\n",
        "## Sintaxis:\n",
        "definir una variable de control\n",
        "\n",
        "while condición:\n",
        "\n",
        "  bloque de instrucciones\n",
        "  cambio en la variable de control\n",
        "## Uso: \n",
        "Repite el bloque de instrucciones de manera repetitiva, hasta que la condición no se cumple"
      ]
    },
    {
      "cell_type": "code",
      "metadata": {
        "colab": {
          "base_uri": "https://localhost:8080/"
        },
        "id": "9Wx-liqJu8d5",
        "outputId": "b16a0949-7811-43ed-b69a-7aaaf7ae8303"
      },
      "source": [
        "# Contar hasta el número 20\n",
        "\n",
        "i=1\n",
        "\n",
        "while i<21:\n",
        "  print(i)\n",
        "  i+=1 # equivalente a i=i+1"
      ],
      "execution_count": null,
      "outputs": [
        {
          "output_type": "stream",
          "text": [
            "1\n",
            "2\n",
            "3\n",
            "4\n",
            "5\n",
            "6\n",
            "7\n",
            "8\n",
            "9\n",
            "10\n",
            "11\n",
            "12\n",
            "13\n",
            "14\n",
            "15\n",
            "16\n",
            "17\n",
            "18\n",
            "19\n",
            "20\n"
          ],
          "name": "stdout"
        }
      ]
    },
    {
      "cell_type": "code",
      "metadata": {
        "colab": {
          "base_uri": "https://localhost:8080/"
        },
        "id": "VQKMH7pAwVRs",
        "outputId": "259423de-6c4d-46ad-d1a0-bc6c69c159ef"
      },
      "source": [
        "# Equivalente con for\n",
        "for i in range(1,21): # El código se repetirá 20 veces, con números enteros\n",
        "  print(i)"
      ],
      "execution_count": null,
      "outputs": [
        {
          "output_type": "stream",
          "text": [
            "1\n",
            "2\n",
            "3\n",
            "4\n",
            "5\n",
            "6\n",
            "7\n",
            "8\n",
            "9\n",
            "10\n",
            "11\n",
            "12\n",
            "13\n",
            "14\n",
            "15\n",
            "16\n",
            "17\n",
            "18\n",
            "19\n",
            "20\n"
          ],
          "name": "stdout"
        }
      ]
    },
    {
      "cell_type": "markdown",
      "metadata": {
        "id": "fwlROKr2yGrS"
      },
      "source": [
        "# Funciones definidas por el usuario\n",
        "\n",
        "Es un bloque de código que nos permite ejecutar una serie de órdenes agrupadas:\n",
        "\n",
        "# Ejemplo:\n",
        "\n",
        "## Evaluar la función $$y = f(x) = x^3-4x^2-3x-10$$ en diferentes valores de x.\n",
        "\n",
        "Para eso definimos la función como una operación, a la cual podemos recurrir cada vez que queramos hacer el cálculo.\n",
        "\n",
        "Sintaxis:\n",
        "\n",
        "def nombre(argumentos):\n",
        "\n",
        "  return operación\n"
      ]
    },
    {
      "cell_type": "code",
      "metadata": {
        "id": "q1B1Pntoy99R"
      },
      "source": [
        "def f(x):\n",
        "  return x**3-4*x**2-3*x-10"
      ],
      "execution_count": null,
      "outputs": []
    },
    {
      "cell_type": "code",
      "metadata": {
        "colab": {
          "base_uri": "https://localhost:8080/"
        },
        "id": "Qg3y_47Czaxt",
        "outputId": "88b6324c-5bc5-4343-9bd0-805d784ac44d"
      },
      "source": [
        "f(1)"
      ],
      "execution_count": null,
      "outputs": [
        {
          "output_type": "execute_result",
          "data": {
            "text/plain": [
              "-16"
            ]
          },
          "metadata": {
            "tags": []
          },
          "execution_count": 6
        }
      ]
    },
    {
      "cell_type": "markdown",
      "metadata": {
        "id": "y5mqATcClfcb"
      },
      "source": [
        "# Ejemplo, solución de la ecuación por el Método de Newton Raphson\n",
        "http://test.cua.uam.mx/MN/Methods/Raices/NewtonRaphson/NewtonRaphson.php\n",
        "\n",
        "## Resolver la siguiente ecuación por el método de Newton-Raphson:\n",
        "$$y = f(x) = x^3-4x^2-3x-10$$\n",
        "\n",
        "## Algoritmo\n",
        "Para hallar una solución aproximada de $$f(x) = 0$$, dada una aproximación inicial supuesta: $$X_{sup}$$.\n",
        "\n",
        "**Entradas:** Aproximación inicial Xsup; tolerancia TOL; cantidad máxima de\n",
        "iteraciones N; función no lineal y su derivada.\n",
        "\n",
        "**Salida:** Solución aproximada calculada Xcalc o mensaje de no convergencia.\n",
        "\n",
        "Paso 1: Tomar i = 1;\n",
        "\n",
        "Paso 2: Mientras que i < N seguir pasos 3-6;\n",
        "\n",
        "Paso 3: Tomar $$Xcalc = Xsup - f(Xsup)/f’(Xsup)$$\n",
        "\n",
        "Paso 4: Si $$│(Xsup – Xcalc)/Xcalc│< TOL$$ entonces mostrar Salida\n",
        "\n",
        "Paso 5: Tomar: $$i = i + 1$$\n",
        "\n",
        "Paso 6: Tomar: $$Xsup = Xcalc$$\n",
        "\n",
        "Paso 7. Si $$Si\\quad iteraciones > N$$ \n",
        "El método no encontró la solución."
      ]
    },
    {
      "cell_type": "code",
      "metadata": {
        "colab": {
          "base_uri": "https://localhost:8080/"
        },
        "id": "Nt7RLZOLxW7H",
        "outputId": "e3371963-69e3-4da5-8192-6ceed768b805"
      },
      "source": [
        "#Algoritmo del Método de Newton Raphson de solución de ecuaciones no lineales\n",
        "#José Manuel Rivera Garnica\n",
        "#Entrada de datos:\n",
        "#Aproximación inicial\n",
        "Xsup = -5\n",
        "Xcalc=0\n",
        "tol=1e-6 #Tolerancia\n",
        "i=1 #Inicializar Iteraciones\n",
        "N=100 #Iteraciones máximas\n",
        "#Función a resolver\n",
        "def f(x):\n",
        "  return x**3-4*x**2-3*x-10\n",
        "#Derivada de la función f'(x)=D\n",
        "def D(x):\n",
        "  return 3*x**2-8*x-3\n",
        "#Tabla de datos\n",
        "print(\"%3s %10s %10s %10s %10s\" %(\"It\",\"Xsup\",\"f(Xsup)\",\"f'(Xsup)\",\"Xcalc\"))\n",
        "while i<N:\n",
        "  Xcalc=Xsup-f(Xsup)/D(Xsup)\n",
        "  if abs((Xcalc-Xsup)/Xsup)<tol:\n",
        "    print(\"%3d %10.5f %10.5f %10.5f %10.5f \" %(i,Xsup,f(Xsup),D(Xsup),Xcalc))\n",
        "    print(\"La solución a la ecuación es X = %8.5f en %d iteraciones\" %(Xcalc, i))\n",
        "    break\n",
        "  else:\n",
        "    print(\"%3d %10.5f %10.5f %10.5f %10.5f \" %(i,Xsup,f(Xsup),D(Xsup),Xcalc))\n",
        "    i+=1\n",
        "    Xsup=Xcalc\n",
        "\n",
        "if i>N:\n",
        "  print(f\"El método no encontró la solución en {i}iteraciones. Pruebe lo siguiente: \\n\")\n",
        "  print(\"Aumentar las iteraciones \\n\")\n",
        "  print(\"Disminuya la tolerancia \\n\")\n",
        "  print(\"Cambie el valor supuesto \\n\")"
      ],
      "execution_count": null,
      "outputs": [
        {
          "output_type": "stream",
          "text": [
            " It       Xsup    f(Xsup)   f'(Xsup)      Xcalc\n",
            "  1   -5.00000 -220.00000  112.00000   -3.03571 \n",
            "  2   -3.03571  -65.73091   48.93240   -1.69241 \n",
            "  3   -1.69241  -21.22734   19.13210   -0.58290 \n",
            "  4   -0.58290   -9.80844    2.68252    3.07354 \n",
            "  5    3.07354  -27.97257    0.75158   40.29209 \n",
            "  6   40.29209 58787.61027 4545.02092   27.35758 \n",
            "  7   27.35758 17389.61307 2023.45125   18.76355 \n",
            "  8   18.76355 5131.52082  903.10362   13.08145 \n",
            "  9   13.08145 1504.81306  405.72146    9.37247 \n",
            " 10    9.37247  433.81753  185.54983    7.03446 \n",
            " 11    7.03446  119.05263   89.17517    5.69942 \n",
            " 12    5.69942   28.10450   48.85472    5.12415 \n",
            " 13    5.12415    4.14426   34.77754    5.00499 \n",
            " 14    5.00499    0.15980   32.10975    5.00001 \n",
            " 15    5.00001    0.00027   32.00019    5.00000 \n",
            " 16    5.00000    0.00000   32.00000    5.00000 \n",
            "La solución a la ecuación es X =  5.00000 en 16 iteraciones\n"
          ],
          "name": "stdout"
        }
      ]
    },
    {
      "cell_type": "code",
      "metadata": {
        "colab": {
          "base_uri": "https://localhost:8080/"
        },
        "id": "0AcZs6432sj0",
        "outputId": "ae20fc5e-35a9-4666-f33f-02da63a88bf0"
      },
      "source": [
        "# Truncar a 5 decimales\n",
        "print(\"%10.5f\" %(2/3)) "
      ],
      "execution_count": null,
      "outputs": [
        {
          "output_type": "stream",
          "text": [
            "   0.66667\n"
          ],
          "name": "stdout"
        }
      ]
    }
  ]
}