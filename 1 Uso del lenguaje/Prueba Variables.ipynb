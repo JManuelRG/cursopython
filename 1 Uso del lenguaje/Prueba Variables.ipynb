{
 "cells": [
  {
   "cell_type": "code",
   "execution_count": 3,
   "metadata": {},
   "outputs": [
    {
     "name": "stdout",
     "output_type": "stream",
     "text": [
      "Hola\n",
      "1 es un entero\n",
      "2.3 es un valor flotante\n",
      "Hola es una cadena de caracteres\n"
     ]
    }
   ],
   "source": [
    "#Variables\n",
    "\n",
    "#Tipos\n",
    "#int, integer\n",
    "entero=1 \n",
    "\n",
    "#float\n",
    "flotante=2.300000\n",
    "\n",
    "#str, str\n",
    "texto=\"Hola\"\n",
    "#Imprimir texto en pantalla\n",
    "#print\n",
    "\n",
    "print(\"Hola\")\n",
    "print(entero, \"es un entero\")\n",
    "print(flotante, \"es un valor flotante\")\n",
    "print(texto, \"es una cadena de caracteres\")"
   ]
  },
  {
   "cell_type": "code",
   "execution_count": 2,
   "metadata": {},
   "outputs": [
    {
     "name": "stdout",
     "output_type": "stream",
     "text": [
      "12\n"
     ]
    }
   ],
   "source": [
    "#Prueba de GitHub\n",
    "a=12\n",
    "print(a)"
   ]
  },
  {
   "cell_type": "code",
   "execution_count": 4,
   "metadata": {},
   "outputs": [
    {
     "name": "stdout",
     "output_type": "stream",
     "text": [
      "Hola Mundo\n"
     ]
    }
   ],
   "source": [
    "#VAriable nueva\n",
    "A=\"Hola Mundo\"\n",
    "print(A)"
   ]
  }
 ],
 "metadata": {
  "kernelspec": {
   "display_name": "Python 3",
   "language": "python",
   "name": "python3"
  },
  "language_info": {
   "codemirror_mode": {
    "name": "ipython",
    "version": 3
   },
   "file_extension": ".py",
   "mimetype": "text/x-python",
   "name": "python",
   "nbconvert_exporter": "python",
   "pygments_lexer": "ipython3",
   "version": "3.8.3"
  }
 },
 "nbformat": 4,
 "nbformat_minor": 4
}
