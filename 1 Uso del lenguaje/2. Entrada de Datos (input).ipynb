{
  "nbformat": 4,
  "nbformat_minor": 0,
  "metadata": {
    "colab": {
      "name": "Entrada de Datos.ipynb",
      "provenance": [],
      "authorship_tag": "ABX9TyP2s9KBjQLvmtnff+pn9+AN",
      "include_colab_link": true
    },
    "kernelspec": {
      "name": "python3",
      "display_name": "Python 3"
    },
    "language_info": {
      "name": "python"
    }
  },
  "cells": [
    {
      "cell_type": "markdown",
      "metadata": {
        "id": "view-in-github",
        "colab_type": "text"
      },
      "source": [
        "<a href=\"https://colab.research.google.com/github/JManuelRG/cursopython/blob/main/1%20Uso%20del%20lenguaje/2.%20Entrada%20de%20Datos%20(input).ipynb\" target=\"_parent\"><img src=\"https://colab.research.google.com/assets/colab-badge.svg\" alt=\"Open In Colab\"/></a>"
      ]
    },
    {
      "cell_type": "markdown",
      "metadata": {
        "id": "-Bfm7SA0a7mT"
      },
      "source": [
        "# Entrada de Datos\n",
        "\n",
        "Es el ingreso de datos, de cualquier tipo, de un usuario del programa a python.\n",
        "\n",
        "## Método input\n",
        "\n",
        "Sintaxis:\n",
        "var = input(\"texto que se muestra al usuario\")\n",
        "\n",
        "***var*** es la variable donde se guardará la información introducida por el usuario"
      ]
    },
    {
      "cell_type": "code",
      "metadata": {
        "colab": {
          "base_uri": "https://localhost:8080/"
        },
        "id": "IKlS6Zczbh3R",
        "outputId": "5ec48623-c890-487a-bc73-c7ca086b7e09"
      },
      "source": [
        "# Ingreso de Texto\n",
        "\n",
        "nombre = input(\"¿Cómo te llamas? \")"
      ],
      "execution_count": null,
      "outputs": [
        {
          "output_type": "stream",
          "text": [
            "¿Cómo te llamas?Manuel\n"
          ],
          "name": "stdout"
        }
      ]
    },
    {
      "cell_type": "code",
      "metadata": {
        "colab": {
          "base_uri": "https://localhost:8080/"
        },
        "id": "w7K6MjZBbwNL",
        "outputId": "8ae2e25b-301c-4371-cc36-cda09d5d93c2"
      },
      "source": [
        "print(nombre)"
      ],
      "execution_count": null,
      "outputs": [
        {
          "output_type": "stream",
          "text": [
            "Manuel\n"
          ],
          "name": "stdout"
        }
      ]
    },
    {
      "cell_type": "code",
      "metadata": {
        "colab": {
          "base_uri": "https://localhost:8080/"
        },
        "id": "f5BfnCvgb6S5",
        "outputId": "351f1aa8-671f-4ab6-a853-b630a637e9d3"
      },
      "source": [
        "# Programa para saludar\n",
        "nombre = input(\"¿Cómo te llamas? \")\n",
        "# Salida: Impresión con formato:\n",
        "print(f\"¡Hola {nombre}!\")"
      ],
      "execution_count": null,
      "outputs": [
        {
          "output_type": "stream",
          "text": [
            "¿Cómo te llamas? José\n",
            "¡Hola José!\n"
          ],
          "name": "stdout"
        }
      ]
    },
    {
      "cell_type": "markdown",
      "metadata": {
        "id": "OrKcqxPHckEf"
      },
      "source": [
        "# Valores Numéricos\n",
        "\n",
        "Para leer valores numéricos se sigue la misma sintaxis:\n",
        "\n",
        "## Método input\n",
        "Sintaxis:\n",
        "var = input(\"texto que se muestra al usuario\")\n",
        "\n",
        "***var*** es la variable donde se guardará la información introducida por el usuario\n",
        "\n",
        "Sin embargo, el valor introducido se almacena como texto"
      ]
    },
    {
      "cell_type": "code",
      "metadata": {
        "colab": {
          "base_uri": "https://localhost:8080/"
        },
        "id": "_jEpcvBUcfsK",
        "outputId": "c317542c-66fd-4015-fc90-87c11265f53d"
      },
      "source": [
        "# Valores numéricos\n",
        "numero = input(\"Escribe un número: \")\n",
        "type(numero)"
      ],
      "execution_count": null,
      "outputs": [
        {
          "output_type": "stream",
          "text": [
            "Escribe un número: 33\n"
          ],
          "name": "stdout"
        },
        {
          "output_type": "execute_result",
          "data": {
            "text/plain": [
              "str"
            ]
          },
          "metadata": {
            "tags": []
          },
          "execution_count": 6
        }
      ]
    },
    {
      "cell_type": "code",
      "metadata": {
        "colab": {
          "base_uri": "https://localhost:8080/"
        },
        "id": "Z1wIOQUzdCw2",
        "outputId": "1925936f-77cb-4f79-da59-481afbf28cb6"
      },
      "source": [
        "# Sumar dos números\n",
        "numero1 = input(\"Escribe un número: \")\n",
        "numero2 = input(\"Escribe un número: \")\n",
        "print(f\"La suma de los números es {numero1+numero2}\")\n",
        "\n",
        "# Aquí concatena en lugar de sumar"
      ],
      "execution_count": null,
      "outputs": [
        {
          "output_type": "stream",
          "text": [
            "Escribe un número: 12\n",
            "Escribe un número: 10\n",
            "La suma de los números es 1210\n"
          ],
          "name": "stdout"
        }
      ]
    },
    {
      "cell_type": "markdown",
      "metadata": {
        "id": "AW8950T6d02H"
      },
      "source": [
        "# Conversión entre tipos de variables\n",
        "\n",
        "Necesitamos convertir esas cadenas a números (entero, flotante, complejo ...)\n",
        "\n",
        "Se usa la transformación con los métodos: \n",
        "float(var), int(var)"
      ]
    },
    {
      "cell_type": "code",
      "metadata": {
        "colab": {
          "base_uri": "https://localhost:8080/"
        },
        "id": "CUAks1gjdfcS",
        "outputId": "f96ca085-6d9a-4476-85ac-ef5a00829e41"
      },
      "source": [
        "# Sumar dos números, convirtiendo la entrada a flotante\n",
        "print(\"Suma de dos números\")\n",
        "numero1 = float(input(\"Escribe un número: \"))\n",
        "numero2 = float(input(\"Escribe un número: \"))\n",
        "print(f\"La suma de los números es {numero1+numero2}\")\n"
      ],
      "execution_count": null,
      "outputs": [
        {
          "output_type": "stream",
          "text": [
            "Suma de dos números\n",
            "Escribe un número: 12\n",
            "Escribe un número: 222.3\n",
            "La suma de los números es 234.3\n"
          ],
          "name": "stdout"
        }
      ]
    }
  ]
}