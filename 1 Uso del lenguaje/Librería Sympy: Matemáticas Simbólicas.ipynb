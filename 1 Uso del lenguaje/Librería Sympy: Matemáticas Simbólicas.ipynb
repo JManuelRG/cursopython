{
  "nbformat": 4,
  "nbformat_minor": 0,
  "metadata": {
    "colab": {
      "name": "Librería Sympy.ipynb",
      "provenance": [],
      "authorship_tag": "ABX9TyPY+DYskPRF53aviM+9xj91",
      "include_colab_link": true
    },
    "kernelspec": {
      "name": "python3",
      "display_name": "Python 3"
    },
    "language_info": {
      "name": "python"
    }
  },
  "cells": [
    {
      "cell_type": "markdown",
      "metadata": {
        "id": "view-in-github",
        "colab_type": "text"
      },
      "source": [
        "<a href=\"https://colab.research.google.com/github/JManuelRG/cursopython/blob/main/1%20Uso%20del%20lenguaje/Librer%C3%ADa%20Sympy%3A%20Matem%C3%A1ticas%20Simb%C3%B3licas.ipynb\" target=\"_parent\"><img src=\"https://colab.research.google.com/assets/colab-badge.svg\" alt=\"Open In Colab\"/></a>"
      ]
    },
    {
      "cell_type": "markdown",
      "metadata": {
        "id": "bDi4RTaobEqU"
      },
      "source": [
        "# Matemáticas Simbólicas con Sympy\n",
        "## https://www.sympy.org/\n",
        "\n",
        "Es una librería de matemáticas simbólicas capaz de resolver ecuaciones algebraicas, diferenciales, integrales, límites, desigualdades, etc."
      ]
    },
    {
      "cell_type": "markdown",
      "metadata": {
        "id": "0eVeHZApbo7T"
      },
      "source": [
        "# Para importar la librería\n",
        "## General \n",
        "import sympy\n",
        "\n",
        "## Con nombre definido por el usuario (pseudonombre)\n",
        "import sympy as sp\n",
        "\n",
        "## Para importar todas las funciones directamente en la consola de python\n",
        "from sympy import *"
      ]
    },
    {
      "cell_type": "code",
      "metadata": {
        "id": "80oJIPiob5I_"
      },
      "source": [
        "# Importar todos los métodos de la librería\n",
        "from sympy import *"
      ],
      "execution_count": null,
      "outputs": []
    },
    {
      "cell_type": "markdown",
      "metadata": {
        "id": "gBMp4_BdcIca"
      },
      "source": [
        "# Cálculo diferencial e integral\n",
        "## Límites\n",
        "## Derivación\n",
        "## Integración\n",
        "\n",
        "https://docs.sympy.org/latest/tutorial/calculus.html"
      ]
    },
    {
      "cell_type": "code",
      "metadata": {
        "colab": {
          "base_uri": "https://localhost:8080/",
          "height": 59
        },
        "id": "aLCXl9WNc-LD",
        "outputId": "775960f9-add6-4c4a-bc07-2b5c382dcde2"
      },
      "source": [
        "# Para definir variables independientes se usa el método \"symbols\"\n",
        "x = symbols('x')\n",
        "y = symbols('y')\n",
        "\n",
        "display(x)\n",
        "display(y)"
      ],
      "execution_count": null,
      "outputs": [
        {
          "output_type": "display_data",
          "data": {
            "text/latex": "$\\displaystyle x$",
            "text/plain": [
              "x"
            ]
          },
          "metadata": {
            "tags": []
          }
        },
        {
          "output_type": "display_data",
          "data": {
            "text/latex": "$\\displaystyle y$",
            "text/plain": [
              "y"
            ]
          },
          "metadata": {
            "tags": []
          }
        }
      ]
    },
    {
      "cell_type": "code",
      "metadata": {
        "colab": {
          "base_uri": "https://localhost:8080/",
          "height": 59
        },
        "id": "OzEIaaTAbWse",
        "outputId": "62a0f469-7418-438a-b614-6bb5570ddf61"
      },
      "source": [
        "# Definir funciones algabraicas\n",
        "# Directamente utilizar la expresión en términos de las variables independientes\n",
        "g = cos(x)\n",
        "h = y*exp(x)\n",
        "\n",
        "display(g)\n",
        "display(h)"
      ],
      "execution_count": null,
      "outputs": [
        {
          "output_type": "display_data",
          "data": {
            "text/latex": "$\\displaystyle \\cos{\\left(x \\right)}$",
            "text/plain": [
              "cos(x)"
            ]
          },
          "metadata": {
            "tags": []
          }
        },
        {
          "output_type": "display_data",
          "data": {
            "text/latex": "$\\displaystyle y e^{x}$",
            "text/plain": [
              "y*exp(x)"
            ]
          },
          "metadata": {
            "tags": []
          }
        }
      ]
    },
    {
      "cell_type": "markdown",
      "metadata": {
        "id": "Ugrzulksem0B"
      },
      "source": [
        "# Para límites:\n",
        "\n",
        "## Sintaxis:\n",
        "Forma 1.\n",
        "limit(expresión o función, variable independiente, valor de la variable independiente)\n",
        "\n",
        "Forma 2. Límite por la derecha\n",
        "limit(expresión o función, variable independiente, valor de la variable independiente, dir=\"+\")\n",
        "\n",
        "Forma 2. Límite por la izquierda\n",
        "limit(expresión o función, variable independiente, valor de la variable independiente, dir=\"-\")"
      ]
    },
    {
      "cell_type": "code",
      "metadata": {
        "colab": {
          "base_uri": "https://localhost:8080/",
          "height": 73
        },
        "id": "5IiqsF-Jd3_1",
        "outputId": "11590f4c-7fb0-48d6-9ffa-483822a20f65"
      },
      "source": [
        "# Límites\n",
        "ecuacion1 = sin(x)/x\n",
        "display(ecuacion1)\n",
        "limit(ecuacion1,x,0)"
      ],
      "execution_count": null,
      "outputs": [
        {
          "output_type": "display_data",
          "data": {
            "text/latex": "$\\displaystyle \\frac{\\sin{\\left(x \\right)}}{x}$",
            "text/plain": [
              "sin(x)/x"
            ]
          },
          "metadata": {
            "tags": []
          }
        },
        {
          "output_type": "display_data",
          "data": {
            "text/latex": "$\\displaystyle 1$",
            "text/plain": [
              "1"
            ]
          },
          "metadata": {
            "tags": []
          }
        }
      ]
    },
    {
      "cell_type": "markdown",
      "metadata": {
        "id": "SUI4SeC8fgsD"
      },
      "source": [
        "# Diferenciación\n",
        "\n",
        "## Sintaxis:\n",
        "Forma 1:\n",
        "\n",
        "$${d{f(x)}}/{dx}$$\n",
        "\n",
        "diff(expresión, variable independiente)\n",
        "\n",
        "Forma 2.\n",
        "$${d^n(f(x)}/{dx}^n$$\n",
        "Derivada de orden n\n",
        "diff(expresión, variable independiente, n)"
      ]
    },
    {
      "cell_type": "code",
      "metadata": {
        "colab": {
          "base_uri": "https://localhost:8080/",
          "height": 38
        },
        "id": "ZcFx3AA5fqui",
        "outputId": "46e862b9-2c53-4ed6-8650-4824f21b82da"
      },
      "source": [
        "ecuacion2 = 3*x**2+4*x+2\n",
        "display(ecuacion2)"
      ],
      "execution_count": null,
      "outputs": [
        {
          "output_type": "display_data",
          "data": {
            "text/latex": "$\\displaystyle 3 x^{2} + 4 x + 2$",
            "text/plain": [
              "3*x**2 + 4*x + 2"
            ]
          },
          "metadata": {
            "tags": []
          }
        }
      ]
    },
    {
      "cell_type": "code",
      "metadata": {
        "colab": {
          "base_uri": "https://localhost:8080/",
          "height": 38
        },
        "id": "Cbud9zDhf0Z4",
        "outputId": "249f9eaa-577b-413e-ef51-6331587a05a4"
      },
      "source": [
        "# Forma 1\n",
        "diff(ecuacion2, x)"
      ],
      "execution_count": null,
      "outputs": [
        {
          "output_type": "execute_result",
          "data": {
            "text/latex": "$\\displaystyle 6 x + 4$",
            "text/plain": [
              "6*x + 4"
            ]
          },
          "metadata": {
            "tags": []
          },
          "execution_count": 12
        }
      ]
    },
    {
      "cell_type": "code",
      "metadata": {
        "colab": {
          "base_uri": "https://localhost:8080/",
          "height": 37
        },
        "id": "GV4JJwSKgKAm",
        "outputId": "54805b69-085b-48e4-86bf-daf32e755f8b"
      },
      "source": [
        "# Forma 2: La segunda derivada de la ecuación\n",
        "diff(ecuacion2, x, 2)"
      ],
      "execution_count": null,
      "outputs": [
        {
          "output_type": "execute_result",
          "data": {
            "text/latex": "$\\displaystyle 6$",
            "text/plain": [
              "6"
            ]
          },
          "metadata": {
            "tags": []
          },
          "execution_count": 15
        }
      ]
    },
    {
      "cell_type": "markdown",
      "metadata": {
        "id": "l2XtzAbyhGdP"
      },
      "source": [
        "# Integrales\n",
        "## Sintaxis\n",
        "\n",
        "Forma 1. Integrales Indefinidas\n",
        "\n",
        "$\\int f(x)dx $\n",
        "\n",
        "integrate(expresión, variable independiente)\n",
        "\n",
        "Forma 2. Integrales definidas\n",
        "\n",
        "$\\int_a^b f(x)dx $\n",
        "\n",
        "integrate(expresión, (variable independiente, a, b))"
      ]
    },
    {
      "cell_type": "code",
      "metadata": {
        "colab": {
          "base_uri": "https://localhost:8080/",
          "height": 38
        },
        "id": "NWuGaoLIhRzB",
        "outputId": "2256cd27-fabb-4577-cead-a541c40cf78e"
      },
      "source": [
        "# Forma 1. Definidas\n",
        "ecuacion3 = x**3+4*x**2\n",
        "display(ecuacion3)"
      ],
      "execution_count": null,
      "outputs": [
        {
          "output_type": "display_data",
          "data": {
            "text/latex": "$\\displaystyle x^{3} + 4 x^{2}$",
            "text/plain": [
              "x**3 + 4*x**2"
            ]
          },
          "metadata": {
            "tags": []
          }
        }
      ]
    },
    {
      "cell_type": "code",
      "metadata": {
        "colab": {
          "base_uri": "https://localhost:8080/",
          "height": 54
        },
        "id": "vk2HVcy7haKl",
        "outputId": "a88997f8-deff-44bb-b3f4-079d6721d889"
      },
      "source": [
        "integrate(ecuacion3,x)"
      ],
      "execution_count": null,
      "outputs": [
        {
          "output_type": "execute_result",
          "data": {
            "text/latex": "$\\displaystyle \\frac{x^{4}}{4} + \\frac{4 x^{3}}{3}$",
            "text/plain": [
              "x**4/4 + 4*x**3/3"
            ]
          },
          "metadata": {
            "tags": []
          },
          "execution_count": 17
        }
      ]
    },
    {
      "cell_type": "code",
      "metadata": {
        "colab": {
          "base_uri": "https://localhost:8080/",
          "height": 51
        },
        "id": "hIWaUmmNiZuT",
        "outputId": "fa68af76-9626-4b63-ee8e-bc7c697371dd"
      },
      "source": [
        "# Forma 2.Indefinidas\n",
        "integrate(ecuacion3,(x,1,10))"
      ],
      "execution_count": null,
      "outputs": [
        {
          "output_type": "execute_result",
          "data": {
            "text/latex": "$\\displaystyle \\frac{15327}{4}$",
            "text/plain": [
              "15327/4"
            ]
          },
          "metadata": {
            "tags": []
          },
          "execution_count": 19
        }
      ]
    },
    {
      "cell_type": "code",
      "metadata": {
        "colab": {
          "base_uri": "https://localhost:8080/",
          "height": 54
        },
        "id": "fjXeNcz5i1v4",
        "outputId": "a4ffa42b-5ed7-4b83-d355-481aad3f9739"
      },
      "source": [
        "integrate(ecuacion3,(x,1,y))\n",
        "# Que representa la operación de abajo"
      ],
      "execution_count": null,
      "outputs": [
        {
          "output_type": "execute_result",
          "data": {
            "text/latex": "$\\displaystyle \\frac{y^{4}}{4} + \\frac{4 y^{3}}{3} - \\frac{19}{12}$",
            "text/plain": [
              "y**4/4 + 4*y**3/3 - 19/12"
            ]
          },
          "metadata": {
            "tags": []
          },
          "execution_count": 20
        }
      ]
    },
    {
      "cell_type": "markdown",
      "metadata": {
        "id": "e3zHAYVVjADT"
      },
      "source": [
        "$$\\int_1^y {x^3+4x^2}dx$$"
      ]
    },
    {
      "cell_type": "markdown",
      "metadata": {
        "id": "8f9U_yAlj2zI"
      },
      "source": [
        "# Aplicaciones en la rama de la probalilidad y estadística\n",
        " \n",
        " ## Probabilidad:\n",
        " $$\\int_0^1{P(x)}dx$$"
      ]
    }
  ]
}