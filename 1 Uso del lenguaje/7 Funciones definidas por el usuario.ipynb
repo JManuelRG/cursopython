{
 "cells": [
  {
   "cell_type": "markdown",
   "metadata": {},
   "source": [
    "Bloques de código que se pueden reutilizar\n",
    "\n",
    "SINTAXIS GENERAL:\n",
    "\n",
    "def nombre(parámetros):\n",
    "    bloque\n",
    "    return valor"
   ]
  },
  {
   "cell_type": "code",
   "execution_count": 3,
   "metadata": {},
   "outputs": [
    {
     "name": "stdout",
     "output_type": "stream",
     "text": [
      "6\n",
      "12\n",
      "10\n",
      "16\n"
     ]
    }
   ],
   "source": [
    "# Ejemplo función que suma dos números\n",
    "\n",
    "#Definir Función\n",
    "def suma(a,b):\n",
    "    return a+b\n",
    "\n",
    "#Llamar función varias veces cambiando argumentos\n",
    "print(suma(2,4))\n",
    "print(suma(3,9))\n",
    "print(suma(3,7))\n",
    "print(suma(7,9))\n",
    "\n",
    "# Los argumentos de la función se declaran en orden (por posición), el primero es a, el segundo b"
   ]
  },
  {
   "cell_type": "code",
   "execution_count": 6,
   "metadata": {},
   "outputs": [
    {
     "name": "stdout",
     "output_type": "stream",
     "text": [
      "-7\n"
     ]
    }
   ],
   "source": [
    "# Es posible definir los argumentos de la función por asignación\n",
    "\n",
    "def resta(a,b):\n",
    "    return a-b\n",
    "\n",
    "variable  = resta(b=10,a=3) #Asignar el resultado a una variable\n",
    "print(variable)"
   ]
  },
  {
   "cell_type": "code",
   "execution_count": 9,
   "metadata": {},
   "outputs": [
    {
     "name": "stdout",
     "output_type": "stream",
     "text": [
      "Esta función ejecuta las instrucciones sin necesidad de argumentos\n",
      "Se puede usar para ejecutar diferentes comandos en bloque\n",
      "Como la impresión de estos mensajes, o cualquier cosa que quieras\n"
     ]
    }
   ],
   "source": [
    "# Funciones sin argumentos\n",
    "\n",
    "def imprimir():\n",
    "    print(\"Esta función ejecuta las instrucciones sin necesidad de argumentos\")\n",
    "    print(\"Se puede usar para ejecutar diferentes comandos en bloque\")\n",
    "    print(\"Como la impresión de estos mensajes, o cualquier cosa que quieras\")\n",
    "    \n",
    "#Ya definida la función, se puede ejecutar escribiendo:\n",
    "imprimir()"
   ]
  },
  {
   "cell_type": "code",
   "execution_count": 25,
   "metadata": {},
   "outputs": [
    {
     "name": "stdout",
     "output_type": "stream",
     "text": [
      "24\n",
      "1\n",
      "6227020800\n"
     ]
    }
   ],
   "source": [
    "# Funciones recursivas, se ejecutan dentro de sí mismas\n",
    "# Ejemplo: Obtener el factorial de un número positivo \n",
    "\n",
    "def factorial(numero):\n",
    "    if numero>1: \n",
    "        numero=numero*factorial(numero-1)\n",
    "    return numero\n",
    "            \n",
    "print(factorial(4))\n",
    "print(factorial(1))\n",
    "print(factorial(13))"
   ]
  }
 ],
 "metadata": {
  "kernelspec": {
   "display_name": "Python 3",
   "language": "python",
   "name": "python3"
  },
  "language_info": {
   "codemirror_mode": {
    "name": "ipython",
    "version": 3
   },
   "file_extension": ".py",
   "mimetype": "text/x-python",
   "name": "python",
   "nbconvert_exporter": "python",
   "pygments_lexer": "ipython3",
   "version": "3.8.3"
  }
 },
 "nbformat": 4,
 "nbformat_minor": 4
}
