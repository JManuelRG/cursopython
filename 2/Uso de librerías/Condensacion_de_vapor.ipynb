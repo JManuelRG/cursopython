{
  "nbformat": 4,
  "nbformat_minor": 0,
  "metadata": {
    "colab": {
      "name": "Condensacion de vapor.ipynb",
      "provenance": [],
      "authorship_tag": "ABX9TyOGEdL/KeJajde53We81iMZ",
      "include_colab_link": true
    },
    "kernelspec": {
      "name": "python3",
      "display_name": "Python 3"
    },
    "language_info": {
      "name": "python"
    }
  },
  "cells": [
    {
      "cell_type": "markdown",
      "metadata": {
        "id": "view-in-github",
        "colab_type": "text"
      },
      "source": [
        "<a href=\"https://colab.research.google.com/github/JManuelRG/cursopython/blob/main/2/Uso%20de%20librer%C3%ADas/Condensacion_de_vapor.ipynb\" target=\"_parent\"><img src=\"https://colab.research.google.com/assets/colab-badge.svg\" alt=\"Open In Colab\"/></a>"
      ]
    },
    {
      "cell_type": "markdown",
      "source": [
        "Un volumen de 0.008 pies cúbicos de vapor saturado a 18 psi se conduce a un condensador. Si la cantidad de energía removida en el condensador es de 490 BTU, determinar el estado y la temperatura final del sistema."
      ],
      "metadata": {
        "id": "0wTyq-nxytP6"
      }
    },
    {
      "cell_type": "code",
      "source": [
        "#Datos\n",
        "\n",
        "V=0.008 #ft3\n",
        "P=18 #psi\n",
        "Q=490 #BTU"
      ],
      "metadata": {
        "id": "ktD-Oh5Oyve3"
      },
      "execution_count": 3,
      "outputs": []
    },
    {
      "cell_type": "code",
      "source": [
        "def interp(xo,x1,yo,y1,x):\n",
        "  return (y1-yo)/(x1-xo)*(x-xo)+yo"
      ],
      "metadata": {
        "id": "uCzaEFUqzaLW"
      },
      "execution_count": 11,
      "outputs": []
    },
    {
      "cell_type": "code",
      "source": [
        "xo=15\n",
        "x1=20\n",
        "\n",
        "T0=212.99\n",
        "T1=227.92\n",
        "\n",
        "vo=26.297\n",
        "v1=20.093\n",
        "\n",
        "hfg0=970.12\n",
        "hfg1=969.47"
      ],
      "metadata": {
        "id": "YjLd73J2y_9H"
      },
      "execution_count": 12,
      "outputs": []
    },
    {
      "cell_type": "code",
      "source": [
        "#valores interpolados\n",
        "Tsat=interp(xo,x1,T0,T1,P)\n",
        "vsat=interp(xo,x1,vo,v1,P)\n",
        "hfg=interp(xo,x1,hfg0,hfg1,P)"
      ],
      "metadata": {
        "id": "jXNLZcuJ0pN9"
      },
      "execution_count": 13,
      "outputs": []
    },
    {
      "cell_type": "code",
      "source": [
        "#vesp=v/m   =>  m=v/vesp\n",
        "m=V/vsat\n",
        "print(f\"La masa es {m} lbm\")"
      ],
      "metadata": {
        "colab": {
          "base_uri": "https://localhost:8080/"
        },
        "id": "SyN9XDxZ1ZIh",
        "outputId": "70fab192-0827-4951-e412-56a71a9fdf76"
      },
      "execution_count": 16,
      "outputs": [
        {
          "output_type": "stream",
          "name": "stdout",
          "text": [
            "La masa es 0.0003543805870314424 lbm\n"
          ]
        }
      ]
    },
    {
      "cell_type": "code",
      "source": [
        "# calor latente\n",
        "Q1=hfg*m"
      ],
      "metadata": {
        "id": "PaEzP_s91zkL"
      },
      "execution_count": 22,
      "outputs": []
    },
    {
      "cell_type": "code",
      "source": [
        "calor=490-Qlat"
      ],
      "metadata": {
        "id": "xmdWPpWy4J9w"
      },
      "execution_count": 20,
      "outputs": []
    },
    {
      "cell_type": "code",
      "source": [
        ""
      ],
      "metadata": {
        "colab": {
          "base_uri": "https://localhost:8080/"
        },
        "id": "oyiS5_834Pzb",
        "outputId": "fcfa2234-a437-43d7-c697-a2aaf2931856"
      },
      "execution_count": 21,
      "outputs": [
        {
          "output_type": "execute_result",
          "data": {
            "text/plain": [
              "-1381502.572"
            ]
          },
          "metadata": {},
          "execution_count": 21
        }
      ]
    }
  ]
}