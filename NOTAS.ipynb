{
  "nbformat": 4,
  "nbformat_minor": 0,
  "metadata": {
    "colab": {
      "provenance": [],
      "authorship_tag": "ABX9TyPPsiqN85RLd0+08tHfj40m",
      "include_colab_link": true
    },
    "kernelspec": {
      "name": "python3",
      "display_name": "Python 3"
    },
    "language_info": {
      "name": "python"
    }
  },
  "cells": [
    {
      "cell_type": "markdown",
      "metadata": {
        "id": "view-in-github",
        "colab_type": "text"
      },
      "source": [
        "<a href=\"https://colab.research.google.com/github/JManuelRG/cursopython/blob/main/NOTAS.ipynb\" target=\"_parent\"><img src=\"https://colab.research.google.com/assets/colab-badge.svg\" alt=\"Open In Colab\"/></a>"
      ]
    },
    {
      "cell_type": "markdown",
      "source": [
        "# Texto markdown\n",
        "## **Notas de la materia de Termodinámica**\n",
        "\n",
        "$$ \\dot{Q} =  mC_p \\Delta{T}$$"
      ],
      "metadata": {
        "id": "ILjidwGscWQX"
      }
    },
    {
      "cell_type": "code",
      "source": [
        "m = 3 #kg\n",
        "Cp = 12 #kJ/kgK\n",
        "dT = 12 #K\n"
      ],
      "metadata": {
        "id": "Yd5fDjWncX_n"
      },
      "execution_count": 1,
      "outputs": []
    },
    {
      "cell_type": "code",
      "source": [
        "m*Cp*dT"
      ],
      "metadata": {
        "colab": {
          "base_uri": "https://localhost:8080/"
        },
        "id": "q5a0KJJKdMcl",
        "outputId": "ed149dda-76dd-4891-f07b-58de6702f1be"
      },
      "execution_count": 2,
      "outputs": [
        {
          "output_type": "execute_result",
          "data": {
            "text/plain": [
              "432"
            ]
          },
          "metadata": {},
          "execution_count": 2
        }
      ]
    }
  ]
}